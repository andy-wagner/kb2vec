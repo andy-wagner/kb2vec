{
 "cells": [
  {
   "cell_type": "code",
   "execution_count": 34,
   "metadata": {},
   "outputs": [
    {
     "name": "stdout",
     "output_type": "stream",
     "text": [
      "http://kg.diffbot.com/kg/dql_endpoint\n",
      "num. of parallel queries: 100, num. of seconds: 41.99\n",
      "num. of parallel queries: 32, num. of seconds: 42.59\n",
      "num. of parallel queries: 10, num. of seconds: 44.59\n",
      "num. of parallel queries: 3, num. of seconds: 47.48\n",
      "num. of parallel queries: 1, num. of seconds: 53.65\n"
     ]
    }
   ],
   "source": [
    "from time import time\n",
    "\n",
    "num_parallel = 100\n",
    "queries = ['allUris:\"barackobama.com\"'] * 100\n",
    "\n",
    "\n",
    "tic = time()\n",
    "make_queries(queries, parallel=num_parallel)\n",
    "print(\"num. of parallel queries: {}, num. of seconds: {:.2f}\".format(x, time()-tic))"
   ]
  },
  {
   "cell_type": "code",
   "execution_count": null,
   "metadata": {},
   "outputs": [],
   "source": []
  },
  {
   "cell_type": "code",
   "execution_count": 70,
   "metadata": {},
   "outputs": [],
   "source": [
    "from diffbot_api import *\n",
    "\n",
    "from sqlitedict import SqliteDict\n",
    "\n",
    "CACHED_QUERY_DB = \"diffbot-query-cache.sqlite\"\n",
    "\n",
    "class CachedQuery(object):\n",
    "    def __init__(self, cache_fpath=CACHED_QUERY_DB):\n",
    "        self._cache = SqliteDict(cache_fpath, autocommit=True)\n",
    "        \n",
    "    def __del__(self):\n",
    "        try:\n",
    "            self._cache.close()\n",
    "        except:\n",
    "            print(\"Warning: trying to close a closed cache.\")\n",
    "            \n",
    "    def make_query(self, query):\n",
    "        if query in self._cache:\n",
    "            return self._cache[query]\n",
    "        else:\n",
    "            response = make_query(query)\n",
    "            self._cache[query] = make_query(query)\n",
    "            return response\n",
    "        \n",
    "    def close(self):\n",
    "        self._cache.close()\n",
    "        "
   ]
  },
  {
   "cell_type": "code",
   "execution_count": 73,
   "metadata": {},
   "outputs": [
    {
     "name": "stdout",
     "output_type": "stream",
     "text": [
      "New York\n",
      "windows\n",
      "catwalk\n",
      "teardrops\n",
      "commuters\n",
      "curved\n",
      "floor\n",
      "shape\n",
      "video\n",
      "walls\n",
      "Grand Central Terminal\n"
     ]
    }
   ],
   "source": [
    "import json\n",
    "\n",
    "from ttl import *\n",
    "\n",
    "phrases = \"New York, windows, catwalk, teardrops, commuters, curved, floor, shape, video, walls, Grand Central Terminal\"\n",
    "phrases =  [Phrase(phrase.strip(), 1, len(phrase.strip()), \"http://\" + phrase.strip())\n",
    "                   for phrase in phrases.split(\",\")]\n",
    "context = \"Inside, it’s even wackier: curved walls, windows in the shape of teardrops, and a catwalk with a tiny video screen embedded in the floor that shows an endless loop of antlike commuters rushing through Grand Central Terminal in New York.\"\n",
    "phrases\n",
    "\n",
    "\n",
    "cq = CachedQuery()\n",
    "\n",
    "# def mfs(input_ttl):\n",
    "# graph, context, phrases = parse_d2kb_ttl(input_ttl)\n",
    "\n",
    "# print(\"# triples input:\", len(graph))\n",
    "for phrase in phrases:\n",
    "    # get candidate wikipedia links from the Diffbot KB\n",
    "    r = cq.make_query('name:\"{}\"'.format(phrase.text))\n",
    "    db_response = json.loads(r.content)\n",
    "    \n",
    "    # limit to the categories of interest\n",
    "    \n",
    "    # limit to the hits with wikipedia url \n",
    "    \n",
    "    # sort by importance \n",
    "    \n",
    "    print(phrase.text)\n",
    "    \n",
    "#     # save the results\n",
    "#     graph.add( (phrase.subj, CLASS_URI, NONE_URI) )\n",
    "#     graph.add( (phrase.subj, LINK_URI, NONE_URI) )\n",
    "# print(\"# triples output:\", len(graph))\n",
    "\n",
    "# output_ttl = str(graph.serialize(format='n3', encoding=\"utf-8\"), \"utf-8\")\n",
    "#return output_ttl\n",
    "\n",
    "cq.close()"
   ]
  },
  {
   "cell_type": "code",
   "execution_count": null,
   "metadata": {
    "collapsed": true
   },
   "outputs": [],
   "source": []
  },
  {
   "cell_type": "code",
   "execution_count": 35,
   "metadata": {},
   "outputs": [
    {
     "data": {
      "text/plain": [
       "{'data': [{'allNames': ['रूसी लोग',\n",
       "    'russos',\n",
       "    'Rusi',\n",
       "    'oroszok',\n",
       "    'რუსეფი',\n",
       "    'ռուս',\n",
       "    'Lō͘-se-a-cho̍k',\n",
       "    'Bangsa Rusia',\n",
       "    'Roushie fowk',\n",
       "    'Урусар',\n",
       "    'Uruusiq',\n",
       "    'Russe',\n",
       "    'russi',\n",
       "    'Rusos',\n",
       "    'ruslar',\n",
       "    '俄羅斯人',\n",
       "    'Ngò̤-lò̤-sṳ̆-nè̤ng',\n",
       "    'روس',\n",
       "    'Vindläseq',\n",
       "    'ГӀурусал',\n",
       "    'Руш',\n",
       "    'ロシア人',\n",
       "    'Ruslar',\n",
       "    'ruși',\n",
       "    'Урыҫтар',\n",
       "    'русские',\n",
       "    'рускія',\n",
       "    'Руснаци',\n",
       "    'روسلار',\n",
       "    'Рузт',\n",
       "    'რუსები',\n",
       "    '俄罗斯人',\n",
       "    'Rusët',\n",
       "    'Руси',\n",
       "    'Орыстар',\n",
       "    'Urang Rusia',\n",
       "    'Оьрсий',\n",
       "    'ryssar',\n",
       "    '러시아인',\n",
       "    'Rûs',\n",
       "    'Орустар',\n",
       "    'Rusové',\n",
       "    'Роусьсци',\n",
       "    'Вырăссем',\n",
       "    'Русҳо',\n",
       "    'ชาวรัสเซีย',\n",
       "    'Russi',\n",
       "    'Rwsiaid',\n",
       "    'russere',\n",
       "    'руслар',\n",
       "    'Russen',\n",
       "    'Расейцы',\n",
       "    'Rusai',\n",
       "    'Krievi',\n",
       "    '𐍂𐌿𐍃𐌰𐌽𐍃',\n",
       "    '俄国人',\n",
       "    'Ngò-lò̤-sṳ̂-ngìn',\n",
       "    'росіяни',\n",
       "    'روسی',\n",
       "    'Rosā',\n",
       "    'Venälaižed',\n",
       "    'Орос үндэстэн',\n",
       "    'Орсин',\n",
       "    'Ρώσοι',\n",
       "    'Russians',\n",
       "    'Rusoj',\n",
       "    'ᎠᏂᏲᎾ',\n",
       "    'rusos',\n",
       "    'Оьрус',\n",
       "    'Руст',\n",
       "    'Venelased',\n",
       "    'Errusiar',\n",
       "    'Người Nga',\n",
       "    'Урысхэр',\n",
       "    'مردم روس',\n",
       "    'Ӟучъёс',\n",
       "    'russarar',\n",
       "    'venäläiset',\n",
       "    'russes',\n",
       "    'Russes',\n",
       "    'Rúisigh',\n",
       "    'Нууччалар',\n",
       "    'Ородууд',\n",
       "    'Оруслула',\n",
       "    'Ruisich',\n",
       "    'Уырыссаг адæм',\n",
       "    'Pobo ruso',\n",
       "    'Russos',\n",
       "    'ਰੂਸੀ ਲੋਕ',\n",
       "    'Rosjanie',\n",
       "    'רוסים',\n",
       "    'урыслар',\n",
       "    'الشعب الروسي',\n",
       "    'شعب روس',\n",
       "    'великорусы',\n",
       "    'великороссы',\n",
       "    'великоросс',\n",
       "    '俄國人',\n",
       "    'Russkiye',\n",
       "    'Russkije',\n",
       "    'Russian (ethnicity)',\n",
       "    'Russians (ethnic group)',\n",
       "    'Russians (ethnicity)',\n",
       "    'Russian people',\n",
       "    'urıslar',\n",
       "    'pueblo ruso'],\n",
       "   'allUris': ['wikidata.org/entity/Q49542'],\n",
       "   'babelnetId': [{'surfaceForm': '03420925n'}],\n",
       "   'bncfThesaurusId': [{'surfaceForm': '36357'}],\n",
       "   'bnfId': [{'surfaceForm': '11942615v'}],\n",
       "   'clusterId': 'sgltn_wikidata_9618',\n",
       "   'commonsCategory': [{'surfaceForm': 'Russians'}],\n",
       "   'country': [{'name': 'Russia', 'websiteUri': 'wikidata.org/wiki/Q159'},\n",
       "    {'name': 'Ukraine', 'websiteUri': 'wikidata.org/wiki/Q212'},\n",
       "    {'name': 'Kazakhstan', 'websiteUri': 'wikidata.org/wiki/Q232'},\n",
       "    {'name': 'United States of America',\n",
       "     'websiteUri': 'wikidata.org/wiki/Q30'},\n",
       "    {'name': 'Belarus', 'websiteUri': 'wikidata.org/wiki/Q184'},\n",
       "    {'name': 'Uzbekistan', 'websiteUri': 'wikidata.org/wiki/Q265'},\n",
       "    {'name': 'Latvia', 'websiteUri': 'wikidata.org/wiki/Q211'},\n",
       "    {'name': 'Canada', 'websiteUri': 'wikidata.org/wiki/Q16'}],\n",
       "   'crawlTimestamp': 0,\n",
       "   'demonym': [{'qualifiers': {'sexOrGender': {'name': 'masculine',\n",
       "       'websiteUri': 'wikidata.org/wiki/Q499327'}},\n",
       "     'surfaceForm': 'rus'},\n",
       "    {'qualifiers': {'sexOrGender': {'name': 'feminine',\n",
       "       'websiteUri': 'wikidata.org/wiki/Q1775415'}},\n",
       "     'surfaceForm': 'rusoaică'}],\n",
       "   'description': 'East Slavic ethnic group, regardless of country of citizenship',\n",
       "   'diffbotUri': 'http://diffbot.com/entity/wikidata_9618',\n",
       "   'differentFrom': [{'name': 'Citizenship of Russia',\n",
       "     'websiteUri': 'wikidata.org/wiki/Q2754061'},\n",
       "    {'name': 'Rossiyane', 'websiteUri': 'wikidata.org/wiki/Q492468'}],\n",
       "   'freebaseId': [{'surfaceForm': '/m/0g6ff'}],\n",
       "   'id': 'wikidata_9618',\n",
       "   'images': [{'height': 0,\n",
       "     'naturalHeight': 0,\n",
       "     'naturalWidth': 0,\n",
       "     'primary': False,\n",
       "     'url': 'https://kg.diffbot.com/image/api/get?fetch=yes&url=g%3Cj7P0St0DnBJf.x0KwLZrUn.%5B%3CR0Aa4Hh%3B%5Bv738ZqOr7U%3FBvqS%3Ewc%3F%60l%7Dh%3BFiHet%5B.X.vRl',\n",
       "     'width': 0}],\n",
       "   'importance': 100,\n",
       "   'libraryOfCongressAuthorityId': [{'surfaceForm': 'sh85116025'}],\n",
       "   'name': 'Russians',\n",
       "   'nativeLanguage': [{'name': 'Russian',\n",
       "     'websiteUri': 'wikidata.org/wiki/Q7737'}],\n",
       "   'nbIncomingEdges': 0,\n",
       "   'nbOrigins': 3,\n",
       "   'ndlAuthId': [{'surfaceForm': '00569761'}],\n",
       "   'nonCanonicalFacts': ['differentFrom',\n",
       "    'bncfThesaurusId',\n",
       "    'country',\n",
       "    'partOf',\n",
       "    'commonsCategory',\n",
       "    'demonym',\n",
       "    'omegawikiDefinedMeaning',\n",
       "    \"topic'sMainCategory\",\n",
       "    'libraryOfCongressAuthorityId',\n",
       "    'freebaseId',\n",
       "    'ndlAuthId',\n",
       "    'nativeLanguage',\n",
       "    'bnfId',\n",
       "    'babelnetId',\n",
       "    'quoraTopicId',\n",
       "    'usNationalArchivesIdentifier'],\n",
       "   'omegawikiDefinedMeaning': [{'surfaceForm': '382185'}],\n",
       "   'origin': 'wikidata.org/entity/Q49542',\n",
       "   'origins': ['wikidata.org/entity/Q49542',\n",
       "    'en.wikipedia.org/wiki/Russians',\n",
       "    'dbpedia.org/page/Russians'],\n",
       "   'partOf': [{'name': 'East Slavs',\n",
       "     'websiteUri': 'wikidata.org/wiki/Q211052'}],\n",
       "   'quoraTopicId': [{'surfaceForm': 'Russian-Ethnicity-and-People'}],\n",
       "   \"topic'sMainCategory\": [{'name': 'Category:Russian people',\n",
       "     'websiteUri': 'wikidata.org/wiki/Q7030219'}],\n",
       "   'type': 'Miscellaneous',\n",
       "   'types': ['Miscellaneous'],\n",
       "   'usNationalArchivesIdentifier': [{'surfaceForm': '10641655'}]}],\n",
       " 'facet': False,\n",
       " 'hits': 1,\n",
       " 'timeES': 40}"
      ]
     },
     "execution_count": 35,
     "metadata": {},
     "output_type": "execute_result"
    }
   ],
   "source": [
    "russians"
   ]
  },
  {
   "cell_type": "code",
   "execution_count": 19,
   "metadata": {
    "collapsed": true
   },
   "outputs": [],
   "source": [
    "%load_ext autoreload\n",
    "%autoreload 2"
   ]
  },
  {
   "cell_type": "code",
   "execution_count": null,
   "metadata": {
    "collapsed": true
   },
   "outputs": [],
   "source": []
  },
  {
   "cell_type": "code",
   "execution_count": null,
   "metadata": {
    "collapsed": true
   },
   "outputs": [],
   "source": []
  },
  {
   "cell_type": "markdown",
   "metadata": {},
   "source": [
    "# DQL"
   ]
  },
  {
   "cell_type": "code",
   "execution_count": null,
   "metadata": {
    "collapsed": true
   },
   "outputs": [],
   "source": [
    "query_and_save('allUris:\"barackobama.com\"', \"data/all-uris.json\")\n",
    "query_and_save('wikipediaUri:\"en.wikipedia.org/wiki/Barack_Obama\"', \"data/wiki-uri.json\")\n",
    "query_and_save('allUris:\"en.wikipedia.org/wiki/Barack\\_Obama\"', \"data/all-uris-wiki.json\")\n",
    "query_and_save('origins:\"en.wikipedia.org/wiki/Barack_Obama\"', \"data/origins.json\")"
   ]
  },
  {
   "cell_type": "code",
   "execution_count": null,
   "metadata": {
    "collapsed": true
   },
   "outputs": [],
   "source": [
    "for entity_type in entity_types:\n",
    "    query_and_save(\n",
    "        query='type:{}'.format(entity_type),\n",
    "        output_fpath=\"data/{}.json\".format(entity_type))\n",
    "    \n",
    "query_and_save(\n",
    "    query='type:Person name:\"Alexander Panchenko\"',\n",
    "    output_fpath=\"data/ap.json\")\n",
    "\n",
    "\n",
    "query_and_save(\n",
    "    query='type:Person employments.employer.name:\"Diffbot\"',\n",
    "    output_fpath=\"data/diffbot-employees.json\")\n",
    "\n",
    "\n",
    "query_and_save(\n",
    "    query='type:Person employments.{title:\"CEO\" employer.name:\"Diffbot\"}',\n",
    "    output_fpath=\"data/diffbot-ceo.json\")\n",
    "\n",
    "query_and_save(\n",
    "    query='type:Person employments.{employer.name:\"Diffbot\" isCurrent:true}',\n",
    "    output_fpath=\"data/diffbot-current-employees.json\")\n"
   ]
  },
  {
   "cell_type": "markdown",
   "metadata": {},
   "source": [
    "# Testing type of links"
   ]
  },
  {
   "cell_type": "code",
   "execution_count": null,
   "metadata": {
    "collapsed": true
   },
   "outputs": [],
   "source": [
    "query_and_save(\n",
    "    query='type:Person name:\"Angela Merkel\"',\n",
    "    output_fpath=\"data/am.json\")\n",
    "\n",
    "query_and_save(\n",
    "    query='type:Person name:\"Barack Obama\"',\n",
    "    output_fpath=\"data/bo.json\")\n",
    "\n",
    "query_and_save(\n",
    "    query='type:Person name:\"Nicolas Sarkozy\"',\n",
    "    output_fpath=\"data/ns.json\")\n",
    "\n",
    "query_and_save(\n",
    "    query='type:Person name:\"Diego Maradona\"',\n",
    "    output_fpath=\"data/dm.json\")"
   ]
  },
  {
   "cell_type": "code",
   "execution_count": null,
   "metadata": {
    "collapsed": true
   },
   "outputs": [],
   "source": []
  }
 ],
 "metadata": {
  "anaconda-cloud": {},
  "kernelspec": {
   "display_name": "Python 3",
   "language": "python",
   "name": "python3"
  },
  "language_info": {
   "codemirror_mode": {
    "name": "ipython",
    "version": 3
   },
   "file_extension": ".py",
   "mimetype": "text/x-python",
   "name": "python",
   "nbconvert_exporter": "python",
   "pygments_lexer": "ipython3",
   "version": "3.6.3"
  }
 },
 "nbformat": 4,
 "nbformat_minor": 1
}

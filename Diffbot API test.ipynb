{
 "cells": [
  {
   "cell_type": "code",
   "execution_count": null,
   "metadata": {
    "collapsed": true
   },
   "outputs": [],
   "source": [
    "datasets/dbpedia-url.txt\n",
    "...........................................................................................................................................................................................................................................................................................................................................Absent urls: 16\n",
    "Total urls: 331\n",
    "Hits total for all urls: 111042\n",
    "Avg. hits per url: 335.47\n",
    "\n",
    " datasets/n3-reuters-128-urls.txt\n",
    "...............................................................................................................................................................................................................................................................................................................................................................................................................................................................................................................................................................................................................................................................................................................................................................................................................................................................................................................Absent urls: 309\n",
    "Total urls: 879\n",
    "Hits total for all urls: 50506\n",
    "Avg. hits per url: 57.46\n",
    "\n",
    " datasets/kore50-urls.txt\n",
    "................................................................................................................................................Absent urls: 15\n",
    "Total urls: 144\n",
    "Hits total for all urls: 1525\n",
    "Avg. hits per url: 10.59"
   ]
  },
  {
   "cell_type": "code",
   "execution_count": null,
   "metadata": {},
   "outputs": [],
   "source": [
    "from time import time\n",
    "for x in 3, 32, 10, 100:\n",
    "    tic = time()\n",
    "    make_queries(queries, parallel=x)\n",
    "    print(x, time()-tic)"
   ]
  },
  {
   "cell_type": "code",
   "execution_count": null,
   "metadata": {},
   "outputs": [],
   "source": [
    "for dataset_fpath in glob(datasets_fpaths):\n",
    "    with open(dataset_fpath, \"r\") as in_f:\n",
    "        queries = []\n",
    "        for url in in_f:\n",
    "            url = db2wiki(url.strip())\n",
    "            query = 'origins:\"{}\"'.format(url)\n",
    "            queries.append(query)\n",
    "            \n",
    "        print(queries)\n"
   ]
  },
  {
   "cell_type": "code",
   "execution_count": 8,
   "metadata": {
    "collapsed": true
   },
   "outputs": [],
   "source": [
    "russians = saved"
   ]
  },
  {
   "cell_type": "code",
   "execution_count": null,
   "metadata": {},
   "outputs": [
    {
     "name": "stdout",
     "output_type": "stream",
     "text": [
      "datasets/dbpedia-url.txt\n",
      "...........................................................................................................................................................................................................................................................................................................................................\n",
      "\n",
      "Absent urls: 16\n",
      "Total urls: 331\n",
      "Hits total for all urls: 111042\n",
      "Avg. hits per url: 335.47\n",
      "datasets/n3-reuters-128-urls.txt\n",
      "................................................................................................................................................................................................................................................................................................................................................................................................................................................................................................................................................................................."
     ]
    }
   ],
   "source": [
    "# search for entities\n",
    "from glob import glob \n",
    "from traceback import format_exc\n",
    "from os.path import join \n",
    "\n",
    "datasets_fpaths = \"datasets/*txt\"\n",
    "\n",
    "\n",
    "def get_hits(diffbot_query_response):\n",
    "    hits_num = diffbot_query_response[\"hits\"]\n",
    "    data = diffbot_query_response[\"data\"]\n",
    "\n",
    "    types = []\n",
    "    for i, hit in enumerate(diffbot_query_response[\"data\"]):\n",
    "        types.append(hit[\"type\"])\n",
    "\n",
    "        \n",
    "    return hits_num, types\n",
    "\n",
    "\n",
    "saved = None\n",
    "\n",
    "for dataset_fpath in glob(datasets_fpaths):\n",
    "    print(dataset_fpath)\n",
    "    total_hits = 0\n",
    "    total_urls = 0\n",
    "    total_absent = 0\n",
    "    \n",
    "    with open(dataset_fpath, \"r\") as in_f, open(dataset_fpath + \".absent\", \"w\") as out_f:\n",
    "        for url in in_f:\n",
    "            try:\n",
    "                url = dbpedia2wikipedia(url.strip())\n",
    "                query = 'origins:\"{}\"'.format(url)\n",
    "                r = make_query(query)\n",
    "                db_response = json.loads(r.content)\n",
    "                \n",
    "                hits_num, types = get_hits(db_response)\n",
    "                if url == \"en.wikipedia.org/wiki/Russians\": saved = db_response\n",
    "                print(\".\", end=\"\")  \n",
    "                total_urls += 1\n",
    "                if hits_num == 0:\n",
    "                    total_absent += 1\n",
    "                    out_f.write(\"{}\\n\".format(url))\n",
    "                total_hits += hits_num\n",
    "                \n",
    "            except KeyboardInterrupt:\n",
    "                break\n",
    "            except:\n",
    "                print(url, \"error\")\n",
    "                print(format_exc())\n",
    "        print(\"\\n\")\n",
    "                                                \n",
    "    print(\"Absent urls:\", total_absent)\n",
    "    print(\"Total urls:\", total_urls)\n",
    "    print(\"Hits total for all urls:\", total_hits)\n",
    "    print(\"Avg. hits per url: {:.2f}\".format(float(total_hits)/total_urls))"
   ]
  },
  {
   "cell_type": "code",
   "execution_count": null,
   "metadata": {},
   "outputs": [],
   "source": []
  },
  {
   "cell_type": "code",
   "execution_count": null,
   "metadata": {},
   "outputs": [],
   "source": []
  },
  {
   "cell_type": "code",
   "execution_count": 6,
   "metadata": {},
   "outputs": [],
   "source": [
    "import requests\n",
    "from pprint import pprint\n",
    "import json \n",
    "import codecs\n",
    "\n",
    "\n",
    "endpoint_diffbot = \"http://kg.diffbot.com/kg/dql_endpoint\"\n",
    " \n",
    "ENTITY_TYPES = [\"AdministrativeArea\", \"Article\", \"Corporation\",\n",
    "                    \"DegreeEntity\", \"EducationMajorEntity\", \"EducationalInstitution\",\n",
    "                   \"EmploymentCategory\", \"Image\", \"Intangible\", \"Landmark\", \"LocalBusiness\",\n",
    "                   \"Miscellaneous\", \"Organization\", \"Person\", \"Place\", \"Product\", \"Role\",\n",
    "                   \"Skill\", \"Video\"]\n",
    "\n",
    "\n",
    "EL_ENTITY_TYPES = [\"AdministrativeArea\", \"Corporation\", \"EducationalInstitution\",\n",
    "                   \"Landmark\", \"LocalBusiness\", \"Miscellaneous\", \"Organization\", \n",
    "                   \"Person\", \"Place\", \"Product\"]\n",
    "\n",
    "EL_POL_ENTITY_TYPES = [\"AdministrativeArea\", \"Corporation\", \"EducationalInstitution\",\n",
    "                   \"Landmark\", \"LocalBusiness\", \"Organization\", \n",
    "                   \"Person\", \"Place\", \"Product\"]\n",
    "\n",
    "\n",
    "def dbpedia2wikipedia(url, to_en=True):\n",
    "    \n",
    "    url = url.replace(\"https://\", \"\")\n",
    "    url = url.replace(\"http://\", \"\")\n",
    "    \n",
    "    if to_en:\n",
    "        wiki_domain = \"en.wikipedia.org/wiki/\"\n",
    "    else:\n",
    "        wiki_domain = \"wikipedia.org/wiki/\"\n",
    "        \n",
    "    new_url = url.replace(\"dbpedia.org/resource/\", wiki_domain)\n",
    "    if new_url == url:\n",
    "        new_url = url.replace(\"dbpedia.org/page/\", wiki_domain)\n",
    "        \n",
    "    return new_url\n",
    "\n",
    "token = None\n",
    "def get_token():\n",
    "    global token    \n",
    "    if token:\n",
    "        return token\n",
    "    else:\n",
    "        with open(\"../dbt\", \"r\") as f:\n",
    "            token = f.read().strip()\n",
    "            return token\n",
    "\n",
    "import grequests \n",
    "\n",
    "def make_queries(queries, parallel=32):    \n",
    "    rs = []\n",
    "    for query in queries:\n",
    "        data = {\n",
    "            \"token\": get_token(),\n",
    "            \"query\": query,\n",
    "            \"type\": \"query\"}\n",
    "\n",
    "        rs.append(grequests.get(endpoint_diffbot, params=data))\n",
    "    \n",
    "    return grequests.map(rs, size=parallel)\n",
    "\n",
    "\n",
    "\n",
    "def make_query(query):\n",
    "    data = {\n",
    "        \"token\": get_token(),\n",
    "        \"query\": query,\n",
    "        \"type\": \"query\"}\n",
    "    r = requests.get(endpoint_diffbot, params=data)\n",
    "\n",
    "    return r \n",
    "\n",
    "\n",
    "def save2json(output_fpath, r):\n",
    "    with codecs.open(output_fpath, \"w\", \"utf-8\") as out:   \n",
    "        out.write(json.dumps(json.loads(r.content)))\n",
    "    print(output_fpath)\n",
    " \n",
    "\n",
    "def query_and_save(query, output_fpath):\n",
    "    r = make_query(query)\n",
    "    save2json(output_fpath, r)"
   ]
  },
  {
   "cell_type": "markdown",
   "metadata": {},
   "source": [
    "# DQL"
   ]
  },
  {
   "cell_type": "code",
   "execution_count": null,
   "metadata": {
    "collapsed": true
   },
   "outputs": [],
   "source": []
  },
  {
   "cell_type": "code",
   "execution_count": null,
   "metadata": {
    "collapsed": true
   },
   "outputs": [],
   "source": [
    "query_and_save('allUris:\"barackobama.com\"', \"data/all-uris.json\")\n",
    "query_and_save('wikipediaUri:\"en.wikipedia.org/wiki/Barack_Obama\"', \"data/wiki-uri.json\")\n",
    "query_and_save('allUris:\"en.wikipedia.org/wiki/Barack\\_Obama\"', \"data/all-uris-wiki.json\")\n",
    "query_and_save('origins:\"en.wikipedia.org/wiki/Barack_Obama\"', \"data/origins.json\")"
   ]
  },
  {
   "cell_type": "code",
   "execution_count": null,
   "metadata": {
    "collapsed": true
   },
   "outputs": [],
   "source": [
    "for entity_type in entity_types:\n",
    "    query_and_save(\n",
    "        query='type:{}'.format(entity_type),\n",
    "        output_fpath=\"data/{}.json\".format(entity_type))\n",
    "    \n",
    "query_and_save(\n",
    "    query='type:Person name:\"Alexander Panchenko\"',\n",
    "    output_fpath=\"data/ap.json\")\n",
    "\n",
    "\n",
    "query_and_save(\n",
    "    query='type:Person employments.employer.name:\"Diffbot\"',\n",
    "    output_fpath=\"data/diffbot-employees.json\")\n",
    "\n",
    "\n",
    "query_and_save(\n",
    "    query='type:Person employments.{title:\"CEO\" employer.name:\"Diffbot\"}',\n",
    "    output_fpath=\"data/diffbot-ceo.json\")\n",
    "\n",
    "query_and_save(\n",
    "    query='type:Person employments.{employer.name:\"Diffbot\" isCurrent:true}',\n",
    "    output_fpath=\"data/diffbot-current-employees.json\")\n"
   ]
  },
  {
   "cell_type": "markdown",
   "metadata": {},
   "source": [
    "# Testing type of links"
   ]
  },
  {
   "cell_type": "code",
   "execution_count": null,
   "metadata": {
    "collapsed": true
   },
   "outputs": [],
   "source": [
    "query_and_save(\n",
    "    query='type:Person name:\"Angela Merkel\"',\n",
    "    output_fpath=\"data/am.json\")\n",
    "\n",
    "query_and_save(\n",
    "    query='type:Person name:\"Barack Obama\"',\n",
    "    output_fpath=\"data/bo.json\")\n",
    "\n",
    "query_and_save(\n",
    "    query='type:Person name:\"Nicolas Sarkozy\"',\n",
    "    output_fpath=\"data/ns.json\")\n",
    "\n",
    "query_and_save(\n",
    "    query='type:Person name:\"Diego Maradona\"',\n",
    "    output_fpath=\"data/dm.json\")"
   ]
  },
  {
   "cell_type": "code",
   "execution_count": null,
   "metadata": {
    "collapsed": true
   },
   "outputs": [],
   "source": []
  }
 ],
 "metadata": {
  "anaconda-cloud": {},
  "kernelspec": {
   "display_name": "Python 3",
   "language": "python",
   "name": "python3"
  },
  "language_info": {
   "codemirror_mode": {
    "name": "ipython",
    "version": 3
   },
   "file_extension": ".py",
   "mimetype": "text/x-python",
   "name": "python",
   "nbconvert_exporter": "python",
   "pygments_lexer": "ipython3",
   "version": "3.6.3"
  }
 },
 "nbformat": 4,
 "nbformat_minor": 1
}

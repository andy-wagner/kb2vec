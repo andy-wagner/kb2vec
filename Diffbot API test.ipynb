{
 "cells": [
  {
   "cell_type": "code",
   "execution_count": 35,
   "metadata": {
    "collapsed": false
   },
   "outputs": [
    {
     "name": "stdout",
     "output_type": "stream",
     "text": [
      "data/aa.json\n",
      "data/organizations.json\n",
      "data/persons.json\n",
      "data/business.json\n",
      "data/ap.json\n",
      "data/diffbot-employees.json\n",
      "data/diffbot-ceo.json\n",
      "data/diffbot-current-employees.json\n"
     ]
    }
   ],
   "source": [
    "import requests\n",
    "from pprint import pprint\n",
    "import json \n",
    "import codecs\n",
    "\n",
    "\n",
    "endpoint_diffbot = \"http://kg.diffbot.com/kg/dql_endpoint\"\n",
    "\n",
    "\n",
    "def get_token():\n",
    "    with open(\"../.diffbot-token\", \"r\") as f:\n",
    "        return f.read().strip()\n",
    "\n",
    "\n",
    "def query_and_save(query, output_fpath):\n",
    "    data = {\n",
    "        \"token\": get_token(),\n",
    "        \"query\": query,\n",
    "        \"type\": \"query\"}\n",
    "    r = requests.get(endpoint_diffbot, params=data)\n",
    "\n",
    "    with codecs.open(output_fpath, \"w\", \"utf-8\") as out:   \n",
    "        out.write(json.dumps(json.loads(r.content)))\n",
    "    print(output_fpath)\n",
    "    \n",
    "\n",
    "query_and_save(\n",
    "    query='type:AdministrativeArea',\n",
    "    output_fpath=\"data/aa.json\")\n",
    "    \n",
    "    \n",
    "query_and_save(\n",
    "    query='type:Organization',\n",
    "    output_fpath=\"data/organizations.json\")\n",
    "\n",
    "\n",
    "query_and_save(\n",
    "    query='type:Person',\n",
    "    output_fpath=\"data/persons.json\")\n",
    "\n",
    "\n",
    "query_and_save(\n",
    "    query='type:LocalBusiness',\n",
    "    output_fpath=\"data/business.json\")\n",
    "\n",
    "    \n",
    "query_and_save(\n",
    "    query='type:Person name:\"Alexander Panchenko\"',\n",
    "    output_fpath=\"data/ap.json\")\n",
    "\n",
    "\n",
    "query_and_save(\n",
    "    query='type:Person employments.employer.name:\"Diffbot\"',\n",
    "    output_fpath=\"data/diffbot-employees.json\")\n",
    "\n",
    "\n",
    "query_and_save(\n",
    "    query='type:Person employments.{title:\"CEO\" employer.name:\"Diffbot\"}',\n",
    "    output_fpath=\"data/diffbot-ceo.json\")\n",
    "\n",
    "query_and_save(\n",
    "    query='type:Person employments.{employer.name:\"Diffbot\" isCurrent:true}',\n",
    "    output_fpath=\"data/diffbot-current-employees.json\")\n",
    "\n"
   ]
  },
  {
   "cell_type": "code",
   "execution_count": 15,
   "metadata": {
    "collapsed": true
   },
   "outputs": [],
   "source": [
    "json.dumps??"
   ]
  }
 ],
 "metadata": {
  "anaconda-cloud": {},
  "kernelspec": {
   "display_name": "Python [conda root]",
   "language": "python",
   "name": "conda-root-py"
  },
  "language_info": {
   "codemirror_mode": {
    "name": "ipython",
    "version": 2
   },
   "file_extension": ".py",
   "mimetype": "text/x-python",
   "name": "python",
   "nbconvert_exporter": "python",
   "pygments_lexer": "ipython2",
   "version": "2.7.12"
  }
 },
 "nbformat": 4,
 "nbformat_minor": 1
}

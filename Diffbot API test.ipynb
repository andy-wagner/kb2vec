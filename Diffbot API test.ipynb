{
 "cells": [
  {
   "cell_type": "code",
   "execution_count": 86,
   "metadata": {},
   "outputs": [],
   "source": [
    "from linkers.baseline import BaselineLinker\n",
    "from collections import namedtuple, defaultdict\n",
    "from diffbot_api import EL_POL_ENTITY_TYPES\n",
    "import json\n",
    "from candidate import Candidate\n",
    "from sklearn.feature_extraction.text import CountVectorizer, TfidfVectorizer\n",
    "from langid import classify\n",
    "from candidate import Phrase\n",
    "import re\n",
    "\n",
    "       \n",
    "class DenseLinker(ContextAwareLinker):\n",
    "    def foo(self):\n",
    "        pass\n",
    "    \n",
    "    def _vectorize_texts(self, texts):\n",
    "        # encode all these using sentence embeddings as well and/or average word2vec\n",
    "\n",
    "        # load a gensim model\n",
    "\n",
    "        # tokenize the words\n",
    "        # average the words\n",
    "\n",
    "        return \n",
    "\n",
    "    \n",
    "class SparseLiker(BaselineLinker):\n",
    "    def foo(self):\n",
    "        pass\n",
    "    \n",
    "    def _vectorize_texts_sparse(self, hit):\n",
    "        count_vect = CountVectorizer()\n",
    "        X_train_counts = count_vect.fit_transform(twenty_train.data)\n",
    "    \n",
    "    \n",
    "l = ContextAwareLinker()\n",
    "c = l.get_candidates(make_dummy_phrases([\"San Francisco\"]))"
   ]
  },
  {
   "cell_type": "code",
   "execution_count": 87,
   "metadata": {},
   "outputs": [
    {
     "name": "stdout",
     "output_type": "stream",
     "text": [
      "data/sf-candidates.txt\n"
     ]
    }
   ],
   "source": [
    "import codecs\n",
    "from candidate import make_dummy_phrases \n",
    "\n",
    "\n",
    "output_fpath = \"data/sf-candidates.txt\"\n",
    "re_newlines = re.compile(r\"[\\n\\r]+\")\n",
    "\n",
    "with codecs.open(output_fpath, \"w\", \"utf-8\") as c_f:\n",
    "    for phrase in c:\n",
    "        for candidate in c[phrase]:\n",
    "            text = candidate.text\n",
    "            c_f.write(\"{}\\t{}\\t{}\\n\".format(\n",
    "                phrase.text,\n",
    "                candidate.name,\n",
    "                text.strip()))\n",
    "            \n",
    "print(output_fpath)"
   ]
  },
  {
   "cell_type": "code",
   "execution_count": 63,
   "metadata": {
    "collapsed": true
   },
   "outputs": [],
   "source": []
  },
  {
   "cell_type": "code",
   "execution_count": null,
   "metadata": {
    "collapsed": true,
    "scrolled": false
   },
   "outputs": [],
   "source": []
  },
  {
   "cell_type": "code",
   "execution_count": null,
   "metadata": {
    "collapsed": true,
    "scrolled": true
   },
   "outputs": [],
   "source": [
    "\n"
   ]
  },
  {
   "cell_type": "code",
   "execution_count": null,
   "metadata": {
    "collapsed": true
   },
   "outputs": [],
   "source": [
    "from linkers.baseline import BaselineLinker\n",
    "from candidate import Phrase\n",
    "\n",
    "context = \"San Francisco said the visit would serve as a cornerstone for future interaction between players and coaches from the Nets and young Russians, with the aim of developing basketball in Russia, where the sport is a distant third in popularity behind soccer and hockey.\"\n",
    "phrases = \"San Francisco\"\n",
    "\n",
    "phrases =  [Phrase(phrase.strip(), 1, len(phrase.strip()), \"http://\" + phrase.strip())\n",
    "                   for phrase in phrases.split(\",\")]\n",
    "bl = BaselineLinker()\n",
    "\n",
    "for phrase, candidate in bl.link(context, phrases):\n",
    "    print(phrase.text, candidate)"
   ]
  },
  {
   "cell_type": "code",
   "execution_count": null,
   "metadata": {
    "collapsed": true
   },
   "outputs": [],
   "source": [
    "from linkers.baseline import BaselineLinker\n",
    "from candidate import Phrase\n",
    "from pandas import read_csv \n",
    "\n",
    "dataset_fpath = \"datasets/dbpedia.tsv\"\n",
    "\n",
    "df = read_csv(dataset_fpath, sep=\"\\t\", encoding=\"utf-8\")\n",
    "bl = BaselineLinker()\n",
    "\n",
    "for i, row in df.iterrows():\n",
    "    phrases =  [Phrase(phrase.strip(), 1, len(phrase.strip()), \"http://\" + phrase.strip())\n",
    "                       for phrase in row.targets.split(\",\")]\n",
    "        \n",
    "    print(\"\\n\\n{}\\n\".format(row.context))\n",
    "    \n",
    "    for phrase, candidate in bl.link(row.context, phrases):\n",
    "        link = candidate.link if candidate else \"\"\n",
    "        print(phrase.text, link)"
   ]
  },
  {
   "cell_type": "code",
   "execution_count": null,
   "metadata": {
    "collapsed": true
   },
   "outputs": [],
   "source": []
  },
  {
   "cell_type": "code",
   "execution_count": null,
   "metadata": {
    "collapsed": true
   },
   "outputs": [],
   "source": []
  },
  {
   "cell_type": "code",
   "execution_count": null,
   "metadata": {
    "collapsed": true
   },
   "outputs": [],
   "source": []
  },
  {
   "cell_type": "code",
   "execution_count": null,
   "metadata": {
    "collapsed": true
   },
   "outputs": [],
   "source": [
    "%load_ext autoreload\n",
    "%autoreload 2"
   ]
  },
  {
   "cell_type": "code",
   "execution_count": null,
   "metadata": {
    "collapsed": true
   },
   "outputs": [],
   "source": []
  },
  {
   "cell_type": "code",
   "execution_count": null,
   "metadata": {
    "collapsed": true
   },
   "outputs": [],
   "source": []
  },
  {
   "cell_type": "code",
   "execution_count": null,
   "metadata": {
    "collapsed": true
   },
   "outputs": [],
   "source": []
  },
  {
   "cell_type": "code",
   "execution_count": null,
   "metadata": {
    "collapsed": true
   },
   "outputs": [],
   "source": []
  },
  {
   "cell_type": "code",
   "execution_count": null,
   "metadata": {
    "collapsed": true
   },
   "outputs": [],
   "source": []
  },
  {
   "cell_type": "code",
   "execution_count": null,
   "metadata": {
    "collapsed": true
   },
   "outputs": [],
   "source": []
  },
  {
   "cell_type": "code",
   "execution_count": null,
   "metadata": {
    "collapsed": true
   },
   "outputs": [],
   "source": []
  }
 ],
 "metadata": {
  "anaconda-cloud": {},
  "kernelspec": {
   "display_name": "Python 3",
   "language": "python",
   "name": "python3"
  },
  "language_info": {
   "codemirror_mode": {
    "name": "ipython",
    "version": 3
   },
   "file_extension": ".py",
   "mimetype": "text/x-python",
   "name": "python",
   "nbconvert_exporter": "python",
   "pygments_lexer": "ipython3",
   "version": "3.6.3"
  }
 },
 "nbformat": 4,
 "nbformat_minor": 1
}

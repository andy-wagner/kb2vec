{
 "cells": [
  {
   "cell_type": "markdown",
   "metadata": {},
   "source": [
    "# DQL"
   ]
  },
  {
   "cell_type": "code",
   "execution_count": 8,
   "metadata": {
    "collapsed": false
   },
   "outputs": [
    {
     "name": "stdout",
     "output_type": "stream",
     "text": [
      "data/AdministrativeArea.json\n",
      "data/Article.json\n",
      "data/Corporation.json\n",
      "data/DegreeEntity.json\n",
      "data/EducationMajorEntity.json\n",
      "data/EducationInstitution.json\n",
      "data/EmploymentCategory.json\n",
      "data/Image.json\n",
      "data/Intangible.json\n",
      "data/Landmark.json\n",
      "data/LocalBusiness.json\n",
      "data/Miscellaneous.json\n",
      "data/Organization.json\n",
      "data/Person.json\n",
      "data/Place.json\n",
      "data/Product.json\n",
      "data/Role.json\n",
      "data/Skill.json\n",
      "data/Video.json\n",
      "data/ap.json\n",
      "data/diffbot-employees.json\n",
      "data/diffbot-ceo.json\n",
      "data/diffbot-current-employees.json\n"
     ]
    }
   ],
   "source": [
    "import requests\n",
    "from pprint import pprint\n",
    "import json \n",
    "import codecs\n",
    "\n",
    "\n",
    "endpoint_diffbot = \"http://kg.diffbot.com/kg/dql_endpoint\"\n",
    "\n",
    "\n",
    "def get_token():\n",
    "    with open(\"../.diffbot-token\", \"r\") as f:\n",
    "        return f.read().strip()\n",
    "\n",
    "\n",
    "def query_and_save(query, output_fpath):\n",
    "    data = {\n",
    "        \"token\": get_token(),\n",
    "        \"query\": query,\n",
    "        \"type\": \"query\"}\n",
    "    r = requests.get(endpoint_diffbot, params=data)\n",
    "\n",
    "    with codecs.open(output_fpath, \"w\", \"utf-8\") as out:   \n",
    "        out.write(json.dumps(json.loads(r.content)))\n",
    "    print(output_fpath)\n",
    "    \n",
    "    \n",
    "entity_types = [\"AdministrativeArea\", \"Article\", \"Corporation\",\n",
    "                    \"DegreeEntity\", \"EducationMajorEntity\", \"EducationalInstitution\",\n",
    "                   \"EmploymentCategory\", \"Image\", \"Intangible\", \"Landmark\", \"LocalBusiness\",\n",
    "                   \"Miscellaneous\", \"Organization\", \"Person\", \"Place\", \"Product\", \"Role\",\n",
    "                   \"Skill\", \"Video\"]\n",
    "\n",
    "for entity_type in entity_types:\n",
    "    query_and_save(\n",
    "        query='type:{}'.format(entity_type),\n",
    "        output_fpath=\"data/{}.json\".format(entity_type))\n",
    "    \n",
    "query_and_save(\n",
    "    query='type:Person name:\"Alexander Panchenko\"',\n",
    "    output_fpath=\"data/ap.json\")\n",
    "\n",
    "\n",
    "query_and_save(\n",
    "    query='type:Person employments.employer.name:\"Diffbot\"',\n",
    "    output_fpath=\"data/diffbot-employees.json\")\n",
    "\n",
    "\n",
    "query_and_save(\n",
    "    query='type:Person employments.{title:\"CEO\" employer.name:\"Diffbot\"}',\n",
    "    output_fpath=\"data/diffbot-ceo.json\")\n",
    "\n",
    "query_and_save(\n",
    "    query='type:Person employments.{employer.name:\"Diffbot\" isCurrent:true}',\n",
    "    output_fpath=\"data/diffbot-current-employees.json\")\n",
    "\n"
   ]
  },
  {
   "cell_type": "markdown",
   "metadata": {
    "collapsed": false
   },
   "source": [
    "# Enhance API"
   ]
  }
 ],
 "metadata": {
  "anaconda-cloud": {},
  "kernelspec": {
   "display_name": "Python [conda root]",
   "language": "python",
   "name": "conda-root-py"
  },
  "language_info": {
   "codemirror_mode": {
    "name": "ipython",
    "version": 2
   },
   "file_extension": ".py",
   "mimetype": "text/x-python",
   "name": "python",
   "nbconvert_exporter": "python",
   "pygments_lexer": "ipython2",
   "version": "2.7.12"
  }
 },
 "nbformat": 4,
 "nbformat_minor": 1
}

{
 "cells": [
  {
   "cell_type": "code",
   "execution_count": 21,
   "metadata": {},
   "outputs": [
    {
     "name": "stdout",
     "output_type": "stream",
     "text": [
      ">>>>>>>> 350\n"
     ]
    }
   ],
   "source": [
    "# read the full db structure here and see which kinds of results are available\n",
    "\n",
    "from linkers.baseline import BaselineLinker\n",
    "from collections import namedtuple, defaultdict\n",
    "from diffbot_api import EL_POL_ENTITY_TYPES\n",
    "import json\n",
    "from candidate import Candidate\n",
    "from sklearn.feature_extraction.text import CountVectorizer, TfidfVectorizer\n",
    "from langid import classify\n",
    "from candidate import Phrase\n",
    "import re\n",
    "\n",
    "\n",
    "# CandidateFeatures = namedtuple(\"CandidateFeatures\", [\"names\", \"description\",\"isPartOf\", \"partOf\"])\n",
    "\n",
    "def make_dummy_phrases(str_phrases):\n",
    "    return [Phrase(phrase.strip(), 1, len(phrase.strip()), \"http://\" + phrase.strip())\n",
    "                   for phrase in str_phrases]\n",
    "\n",
    "\n",
    "    \n",
    "class ContextAwareLinker(BaselineLinker):\n",
    "    def __init__(self):\n",
    "        BaselineLinker.__init__(self)\n",
    "        self._re_contains_alpha = re.compile(r\"[a-z]+\", re.U|re.I)\n",
    "\n",
    "    def get_db_entry(diffbot_uri):\n",
    "        \"\"\" Gets an entity like https://www.diffbot.com/entity/AcZTRPXDrY9 and \n",
    "        returns a json by https://www.diffbot.com/entity/AcZTRPXDrY9.json \"\"\"\n",
    "\n",
    "        return {}\n",
    "\n",
    "    def _is_english(self, text):\n",
    "        lang, conf = classify(text)\n",
    "        return lang == \"en\"\n",
    "\n",
    "    def _is_alpha(self, text):\n",
    "        return self._re_contains_alpha.search(text)\n",
    "    \n",
    "    def _get_record_texts(self, hit):\n",
    "        texts = []\n",
    "\n",
    "        if \"name\" in hit:\n",
    "            texts.append(hit[\"name\"])\n",
    "\n",
    "        if \"isPartOf\" in hit:\n",
    "            for is_part_of in hit[\"isPartOf\"]:\n",
    "                if \"name\" in is_part_of:\n",
    "                    texts.append(is_part_of[\"name\"])\n",
    "                    \n",
    "        if \"allNames\" in hit:\n",
    "            for name in hit[\"allNames\"]:\n",
    "                if self._is_alpha(name) and self._is_english(name):                    \n",
    "                    texts.append(name)\n",
    "                    \n",
    "        if \"description\" in hit:\n",
    "            texts.append(hit[\"description\"])\n",
    "\n",
    "        return \" . \".join(texts)\n",
    "    \n",
    "    def _get_wiki_texts(self, wiki_uri):\n",
    "        # access from a cached (?) wikipedia dump\n",
    "        return \"\"\n",
    "    \n",
    "    def _get_uri_texts(self, uris):\n",
    "        # access the uris\n",
    "        return \"\"\n",
    " \n",
    "    def get_candidates(self, phrases):\n",
    "        \n",
    "        candidates = defaultdict(list)  \n",
    "        i = 0\n",
    "        for phrase in phrases:\n",
    "            for entity_type in EL_POL_ENTITY_TYPES:\n",
    "                r = self._cq.make_query('type:{} name:\"{}\"'.format(entity_type, phrase.text))\n",
    "                db_response = json.loads(r.content)\n",
    "            \n",
    "                if \"data\" not in db_response: continue\n",
    "                else: data = db_response[\"data\"]\n",
    "\n",
    "                for hit in data:\n",
    "                    uris = self._get_uris(hit)\n",
    "                    wiki_uri = self._get_wikipedia_uri(hit, uris)  \n",
    "                    \n",
    "                    texts_record = self._get_record_texts(hit)\n",
    "                    texts_wiki = self._get_wiki_texts(wiki_uri) \n",
    "                    texts_uris = self._get_uri_texts(uris)                    \n",
    "                    texts = \"\\n\\n\".join([texts_record, texts_wiki, texts_uris])\n",
    "\n",
    "                    score = float(hit[\"importance\"])\n",
    "                    c = Candidate(score,\n",
    "                                  hit[\"name\"],\n",
    "                                  \"\",\n",
    "                                  wiki_uri,\n",
    "                                  hit[\"types\"],\n",
    "                                  hit[\"allNames\"],\n",
    "                                  uris,\n",
    "                                  texts)\n",
    "                    i += 1\n",
    "                    candidates[phrase].append(c)\n",
    "            break\n",
    "        print(\">>>>>>>>\",i)\n",
    "        return candidates\n",
    "\n",
    "       \n",
    "class DenseLinker(ContextAwareLinker):\n",
    "    def foo(self):\n",
    "        pass\n",
    "    \n",
    "    def _vectorize_texts(self, texts):\n",
    "        # encode all these using sentence embeddings as well and/or average word2vec\n",
    "\n",
    "        # load a gensim model\n",
    "\n",
    "        # tokenize the words\n",
    "        # average the words\n",
    "\n",
    "        return \n",
    "\n",
    "    \n",
    "class SparseLiker(BaselineLinker):\n",
    "    def foo(self):\n",
    "        pass\n",
    "    \n",
    "    def _vectorize_texts_sparse(self, hit):\n",
    "        count_vect = CountVectorizer()\n",
    "        X_train_counts = count_vect.fit_transform(twenty_train.data)\n",
    "    \n",
    "    \n",
    "sl = ContextAwareLinker()\n",
    "c = sl.get_candidates(make_dummy_phrases([\"San Francisco\"]))"
   ]
  },
  {
   "cell_type": "code",
   "execution_count": 26,
   "metadata": {},
   "outputs": [
    {
     "name": "stdout",
     "output_type": "stream",
     "text": [
      "San Francisco 350\n"
     ]
    }
   ],
   "source": [
    "for x in c:\n",
    "    print(x.text, len(c[x]))"
   ]
  },
  {
   "cell_type": "code",
   "execution_count": 24,
   "metadata": {},
   "outputs": [
    {
     "data": {
      "text/plain": [
       "dict_keys([Phrase(text='San Francisco', beg=1, end=13, subj='http://San Francisco')])"
      ]
     },
     "execution_count": 24,
     "metadata": {},
     "output_type": "execute_result"
    }
   ],
   "source": [
    "for "
   ]
  },
  {
   "cell_type": "code",
   "execution_count": null,
   "metadata": {
    "collapsed": true,
    "scrolled": false
   },
   "outputs": [],
   "source": []
  },
  {
   "cell_type": "code",
   "execution_count": null,
   "metadata": {
    "collapsed": true,
    "scrolled": true
   },
   "outputs": [],
   "source": [
    "\n"
   ]
  },
  {
   "cell_type": "code",
   "execution_count": null,
   "metadata": {
    "collapsed": true
   },
   "outputs": [],
   "source": [
    "from linkers.baseline import BaselineLinker\n",
    "from candidate import Phrase\n",
    "\n",
    "context = \"San Francisco said the visit would serve as a cornerstone for future interaction between players and coaches from the Nets and young Russians, with the aim of developing basketball in Russia, where the sport is a distant third in popularity behind soccer and hockey.\"\n",
    "phrases = \"San Francisco\"\n",
    "\n",
    "phrases =  [Phrase(phrase.strip(), 1, len(phrase.strip()), \"http://\" + phrase.strip())\n",
    "                   for phrase in phrases.split(\",\")]\n",
    "bl = BaselineLinker()\n",
    "\n",
    "for phrase, candidate in bl.link(context, phrases):\n",
    "    print(phrase.text, candidate)"
   ]
  },
  {
   "cell_type": "code",
   "execution_count": null,
   "metadata": {
    "collapsed": true
   },
   "outputs": [],
   "source": [
    "from linkers.baseline import BaselineLinker\n",
    "from candidate import Phrase\n",
    "from pandas import read_csv \n",
    "\n",
    "dataset_fpath = \"datasets/dbpedia.tsv\"\n",
    "\n",
    "df = read_csv(dataset_fpath, sep=\"\\t\", encoding=\"utf-8\")\n",
    "bl = BaselineLinker()\n",
    "\n",
    "for i, row in df.iterrows():\n",
    "    phrases =  [Phrase(phrase.strip(), 1, len(phrase.strip()), \"http://\" + phrase.strip())\n",
    "                       for phrase in row.targets.split(\",\")]\n",
    "        \n",
    "    print(\"\\n\\n{}\\n\".format(row.context))\n",
    "    \n",
    "    for phrase, candidate in bl.link(row.context, phrases):\n",
    "        link = candidate.link if candidate else \"\"\n",
    "        print(phrase.text, link)"
   ]
  },
  {
   "cell_type": "code",
   "execution_count": null,
   "metadata": {
    "collapsed": true
   },
   "outputs": [],
   "source": []
  },
  {
   "cell_type": "code",
   "execution_count": null,
   "metadata": {
    "collapsed": true
   },
   "outputs": [],
   "source": []
  },
  {
   "cell_type": "code",
   "execution_count": null,
   "metadata": {
    "collapsed": true
   },
   "outputs": [],
   "source": []
  },
  {
   "cell_type": "code",
   "execution_count": null,
   "metadata": {
    "collapsed": true
   },
   "outputs": [],
   "source": [
    "%load_ext autoreload\n",
    "%autoreload 2"
   ]
  },
  {
   "cell_type": "code",
   "execution_count": null,
   "metadata": {},
   "outputs": [],
   "source": []
  },
  {
   "cell_type": "code",
   "execution_count": null,
   "metadata": {},
   "outputs": [],
   "source": []
  },
  {
   "cell_type": "code",
   "execution_count": null,
   "metadata": {},
   "outputs": [],
   "source": []
  },
  {
   "cell_type": "code",
   "execution_count": null,
   "metadata": {
    "collapsed": true
   },
   "outputs": [],
   "source": []
  },
  {
   "cell_type": "code",
   "execution_count": null,
   "metadata": {
    "collapsed": true
   },
   "outputs": [],
   "source": []
  },
  {
   "cell_type": "code",
   "execution_count": null,
   "metadata": {
    "collapsed": true
   },
   "outputs": [],
   "source": []
  },
  {
   "cell_type": "code",
   "execution_count": null,
   "metadata": {
    "collapsed": true
   },
   "outputs": [],
   "source": []
  }
 ],
 "metadata": {
  "anaconda-cloud": {},
  "kernelspec": {
   "display_name": "Python 3",
   "language": "python",
   "name": "python3"
  },
  "language_info": {
   "codemirror_mode": {
    "name": "ipython",
    "version": 3
   },
   "file_extension": ".py",
   "mimetype": "text/x-python",
   "name": "python",
   "nbconvert_exporter": "python",
   "pygments_lexer": "ipython3",
   "version": "3.6.3"
  }
 },
 "nbformat": 4,
 "nbformat_minor": 1
}

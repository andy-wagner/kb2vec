{
 "cells": [
  {
   "cell_type": "code",
   "execution_count": null,
   "metadata": {},
   "outputs": [],
   "source": [
    "# read the full db structure here and see which kinds of results are available\n",
    "\n",
    "from linkers.baseline import BaselineLinker\n",
    "from collections import namedtuple, defaultdict\n",
    "from diffbot_api import EL_POL_ENTITY_TYPES\n",
    "import json\n",
    "from candidate import Candidate\n",
    "from sklearn.feature_extraction.text import CountVectorizer, TfidfVectorizer\n",
    "\n",
    "\n",
    "# CandidateFeatures = namedtuple(\"CandidateFeatures\", [\"names\", \"description\",\"isPartOf\", \"partOf\"])\n",
    "\n",
    "def make_dummy_phrases(str_phrases):\n",
    "    return [Phrase(phrase.strip(), 1, len(phrase.strip()), \"http://\" + phrase.strip())\n",
    "                   for phrase in str_phrases]\n",
    "\n",
    "\n",
    "class SparseLiker(BaselineLinker):\n",
    "    \n",
    "    # move to base\n",
    "    def _get_uris(self, hit):\n",
    "        uris = set()\n",
    "        \n",
    "        if \"allUris\" in hit: uris.union( set(hit[\"allUris\"]) )\n",
    "        if \"origins\" in hit: uris.union( set(hit[\"origins\"]) )\n",
    "        if \"origin\" in hit: uris.add( hit[\"origin\"] )\n",
    "        \n",
    "        return uris\n",
    "\n",
    "   # move to base\n",
    "    def _get_wikipedia_uri(self, hit, uris):\n",
    "        wiki_uri = \"\"\n",
    "        \n",
    "        if \"wikipediaUri\" in hit:\n",
    "            wiki_uri = hit[\"wikipediaUri\"]\n",
    "            uris.add(wiki_uri)\n",
    "        else:\n",
    "            # try to find via wikidata link    \n",
    "            for uri in uris:\n",
    "                wiki_uri = self._conv.wikidata2wikipedia(uri)\n",
    "                if wiki_uri != \"\":\n",
    "                    print(\"Founda a wiki uri:\", wiki_uri)\n",
    "                    break\n",
    "            \n",
    "        return wiki_uri\n",
    "    \n",
    "\n",
    "    def get_db_entry(diffbot_uri):\n",
    "        \"\"\" Gets an entity like https://www.diffbot.com/entity/AcZTRPXDrY9 and \n",
    "        returns a json by https://www.diffbot.com/entity/AcZTRPXDrY9.json \"\"\"\n",
    "\n",
    "        return {}\n",
    "\n",
    "\n",
    "    def _vectorize_texts_sparse(self, hit):\n",
    "        count_vect = CountVectorizer()\n",
    "        X_train_counts = count_vect.fit_transform(twenty_train.data)\n",
    "\n",
    "    # move to the dense class\n",
    "    def _vectorize_texts_dense(self, hit):\n",
    "        # encode all these using sentence embeddings as well and/or average word2vec\n",
    "\n",
    "        # load a gensim model\n",
    "\n",
    "        # tokenize the words\n",
    "        # average the words\n",
    "\n",
    "        return \n",
    "\n",
    "    # move to baes text aware class\n",
    "    def _is_english(self, text):\n",
    "        # do real lang id here\n",
    "        return True\n",
    "\n",
    "    # move to baes text aware class\n",
    "    def _get_texts(self, hit):\n",
    "        texts = []\n",
    "\n",
    "        if \"name\" in hit:\n",
    "            texts.append(hit[\"name\"])\n",
    "\n",
    "        if \"description\" in hit:\n",
    "            texts.append(hit[\"description\"])\n",
    "\n",
    "        if \"isPartOf\":\n",
    "            for is_part_of in hit[\"isPartOf\"]:\n",
    "                if \"name\" in is_part_of:\n",
    "                    print(hit[\"isPartOf\"][\"name\"])\n",
    "\n",
    "        if \"allNames\" in hit:\n",
    "            for name in hit[\"allNames\"]:\n",
    "                if is_english(name):\n",
    "                    texts.append(name)\n",
    "\n",
    "        return \" . \".join(texts)\n",
    "\n",
    "    \n",
    "    def get_data(self, phrases):\n",
    "        \n",
    "        candidates = defaultdict(list)  \n",
    "\n",
    "        for phrase in phrases:\n",
    "            for entity_type in EL_POL_ENTITY_TYPES:\n",
    "                r = self._cq.make_query('type:{} name:\"{}\"'.format(entity_type, phrase.text))\n",
    "                db_response = json.loads(r.content)\n",
    "            \n",
    "                if \"data\" not in db_response: continue\n",
    "                else: data = db_response[\"data\"]\n",
    "\n",
    "                for hit in data:\n",
    "                    uris = self._get_uris(hit)\n",
    "                    wiki_uri = self._get_wikipedia_uri(hit, uris)  \n",
    "                    \n",
    "                    texts = self._get_texts(hit)\n",
    "                    texts_wiki = \"\" # get texts from the wiki \n",
    "                    texts_uris = \"\" # use some external tool to extract text by uri\n",
    "                    \n",
    "                    representation = texts + texts_uri \n",
    "#                     score = 0.0\n",
    "#                     importance = float(hit[\"importance\"])\n",
    "#                     c = Candidate(score,\n",
    "#                                   name,\n",
    "#                                   dbpedia_uri,\n",
    "#                                   wiki_uri,\n",
    "#                                   hit[\"types\"],\n",
    "#                                   hit[\"allNames\"],\n",
    "#                                   uris)\n",
    "                    \n",
    "#                     candidates[phrase].append(c)\n",
    "                    candidate[phrase].append(c, representation)\n",
    "                    \n",
    "        return hit\n",
    "    \n",
    "sl = SparseLiker()\n",
    "\n",
    "h = sl.get_data(make_dummy_phrases([\"San Francisco\"]))\n",
    "\n"
   ]
  },
  {
   "cell_type": "code",
   "execution_count": null,
   "metadata": {},
   "outputs": [],
   "source": [
    "from langdetect import detect\n",
    "\n"
   ]
  },
  {
   "cell_type": "code",
   "execution_count": null,
   "metadata": {
    "collapsed": true
   },
   "outputs": [],
   "source": []
  },
  {
   "cell_type": "code",
   "execution_count": null,
   "metadata": {
    "collapsed": true,
    "scrolled": false
   },
   "outputs": [],
   "source": []
  },
  {
   "cell_type": "code",
   "execution_count": null,
   "metadata": {
    "scrolled": true
   },
   "outputs": [],
   "source": [
    "\n"
   ]
  },
  {
   "cell_type": "code",
   "execution_count": null,
   "metadata": {},
   "outputs": [],
   "source": [
    "from linkers.baseline import BaselineLinker\n",
    "from candidate import Phrase\n",
    "\n",
    "context = \"San Francisco said the visit would serve as a cornerstone for future interaction between players and coaches from the Nets and young Russians, with the aim of developing basketball in Russia, where the sport is a distant third in popularity behind soccer and hockey.\"\n",
    "phrases = \"San Francisco\"\n",
    "\n",
    "phrases =  [Phrase(phrase.strip(), 1, len(phrase.strip()), \"http://\" + phrase.strip())\n",
    "                   for phrase in phrases.split(\",\")]\n",
    "bl = BaselineLinker()\n",
    "\n",
    "for phrase, candidate in bl.link(context, phrases):\n",
    "    print(phrase.text, candidate)"
   ]
  },
  {
   "cell_type": "code",
   "execution_count": null,
   "metadata": {},
   "outputs": [],
   "source": [
    "from linkers.baseline import BaselineLinker\n",
    "from candidate import Phrase\n",
    "from pandas import read_csv \n",
    "\n",
    "dataset_fpath = \"datasets/dbpedia.tsv\"\n",
    "\n",
    "df = read_csv(dataset_fpath, sep=\"\\t\", encoding=\"utf-8\")\n",
    "bl = BaselineLinker()\n",
    "\n",
    "for i, row in df.iterrows():\n",
    "    phrases =  [Phrase(phrase.strip(), 1, len(phrase.strip()), \"http://\" + phrase.strip())\n",
    "                       for phrase in row.targets.split(\",\")]\n",
    "        \n",
    "    print(\"\\n\\n{}\\n\".format(row.context))\n",
    "    \n",
    "    for phrase, candidate in bl.link(row.context, phrases):\n",
    "        link = candidate.link if candidate else \"\"\n",
    "        print(phrase.text, link)"
   ]
  },
  {
   "cell_type": "code",
   "execution_count": null,
   "metadata": {
    "collapsed": true
   },
   "outputs": [],
   "source": []
  },
  {
   "cell_type": "code",
   "execution_count": null,
   "metadata": {
    "collapsed": true
   },
   "outputs": [],
   "source": []
  },
  {
   "cell_type": "code",
   "execution_count": null,
   "metadata": {
    "collapsed": true
   },
   "outputs": [],
   "source": []
  },
  {
   "cell_type": "code",
   "execution_count": null,
   "metadata": {
    "collapsed": true
   },
   "outputs": [],
   "source": [
    "%load_ext autoreload\n",
    "%autoreload 2"
   ]
  },
  {
   "cell_type": "code",
   "execution_count": null,
   "metadata": {},
   "outputs": [],
   "source": [
    "from collections import Counter\n",
    "\n",
    "Counter"
   ]
  },
  {
   "cell_type": "code",
   "execution_count": null,
   "metadata": {
    "collapsed": true
   },
   "outputs": [],
   "source": []
  },
  {
   "cell_type": "code",
   "execution_count": null,
   "metadata": {
    "collapsed": true
   },
   "outputs": [],
   "source": []
  },
  {
   "cell_type": "code",
   "execution_count": null,
   "metadata": {
    "collapsed": true
   },
   "outputs": [],
   "source": []
  },
  {
   "cell_type": "code",
   "execution_count": null,
   "metadata": {
    "collapsed": true
   },
   "outputs": [],
   "source": []
  },
  {
   "cell_type": "code",
   "execution_count": null,
   "metadata": {
    "collapsed": true
   },
   "outputs": [],
   "source": []
  },
  {
   "cell_type": "code",
   "execution_count": null,
   "metadata": {
    "collapsed": true
   },
   "outputs": [],
   "source": []
  }
 ],
 "metadata": {
  "anaconda-cloud": {},
  "kernelspec": {
   "display_name": "Python 3",
   "language": "python",
   "name": "python3"
  }
 },
 "nbformat": 4,
 "nbformat_minor": 1
}

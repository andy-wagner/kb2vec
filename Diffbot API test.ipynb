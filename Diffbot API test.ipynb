{
 "cells": [
  {
   "cell_type": "markdown",
   "metadata": {},
   "source": [
    "# DQL"
   ]
  },
  {
   "cell_type": "code",
   "execution_count": 1,
   "metadata": {},
   "outputs": [],
   "source": [
    "import requests\n",
    "from pprint import pprint\n",
    "import json \n",
    "import codecs\n",
    "\n",
    "\n",
    "endpoint_diffbot = \"http://kg.diffbot.com/kg/dql_endpoint\"\n",
    "\n",
    "\n",
    "def get_token():\n",
    "    with open(\"../.diffbot-token\", \"r\") as f:\n",
    "        return f.read().strip()\n",
    "\n",
    "\n",
    "def query_and_save(query, output_fpath):\n",
    "    data = {\n",
    "        \"token\": get_token(),\n",
    "        \"query\": query,\n",
    "        \"type\": \"query\"}\n",
    "    r = requests.get(endpoint_diffbot, params=data)\n",
    "\n",
    "    with codecs.open(output_fpath, \"w\", \"utf-8\") as out:   \n",
    "        out.write(json.dumps(json.loads(r.content)))\n",
    "    print(output_fpath)\n",
    "    \n",
    "    \n",
    "entity_types = [\"AdministrativeArea\", \"Article\", \"Corporation\",\n",
    "                    \"DegreeEntity\", \"EducationMajorEntity\", \"EducationalInstitution\",\n",
    "                   \"EmploymentCategory\", \"Image\", \"Intangible\", \"Landmark\", \"LocalBusiness\",\n",
    "                   \"Miscellaneous\", \"Organization\", \"Person\", \"Place\", \"Product\", \"Role\",\n",
    "                   \"Skill\", \"Video\"]\n",
    "\n"
   ]
  },
  {
   "cell_type": "code",
   "execution_count": 10,
   "metadata": {},
   "outputs": [
    {
     "name": "stdout",
     "output_type": "stream",
     "text": [
      "data/ls.json\n"
     ]
    }
   ],
   "source": [
    "query_and_save('type:Organization name:\"Lombard Street\" ', \"data/ls.json\")"
   ]
  },
  {
   "cell_type": "code",
   "execution_count": null,
   "metadata": {
    "collapsed": true
   },
   "outputs": [],
   "source": [
    "for entity_type in entity_types:\n",
    "    query_and_save(\n",
    "        query='type:{}'.format(entity_type),\n",
    "        output_fpath=\"data/{}.json\".format(entity_type))\n",
    "    \n",
    "query_and_save(\n",
    "    query='type:Person name:\"Alexander Panchenko\"',\n",
    "    output_fpath=\"data/ap.json\")\n",
    "\n",
    "\n",
    "query_and_save(\n",
    "    query='type:Person employments.employer.name:\"Diffbot\"',\n",
    "    output_fpath=\"data/diffbot-employees.json\")\n",
    "\n",
    "\n",
    "query_and_save(\n",
    "    query='type:Person employments.{title:\"CEO\" employer.name:\"Diffbot\"}',\n",
    "    output_fpath=\"data/diffbot-ceo.json\")\n",
    "\n",
    "query_and_save(\n",
    "    query='type:Person employments.{employer.name:\"Diffbot\" isCurrent:true}',\n",
    "    output_fpath=\"data/diffbot-current-employees.json\")\n"
   ]
  },
  {
   "cell_type": "markdown",
   "metadata": {},
   "source": [
    "# Testing type of links"
   ]
  },
  {
   "cell_type": "code",
   "execution_count": 15,
   "metadata": {},
   "outputs": [
    {
     "name": "stdout",
     "output_type": "stream",
     "text": [
      "data/am.json\n",
      "data/bo.json\n",
      "data/ns.json\n",
      "data/dm.json\n"
     ]
    }
   ],
   "source": [
    "query_and_save(\n",
    "    query='type:Person name:\"Angela Merkel\"',\n",
    "    output_fpath=\"data/am.json\")\n",
    "\n",
    "query_and_save(\n",
    "    query='type:Person name:\"Barack Obama\"',\n",
    "    output_fpath=\"data/bo.json\")\n",
    "\n",
    "query_and_save(\n",
    "    query='type:Person name:\"Nicolas Sarkozy\"',\n",
    "    output_fpath=\"data/ns.json\")\n",
    "\n",
    "query_and_save(\n",
    "    query='type:Person name:\"Diego Maradona\"',\n",
    "    output_fpath=\"data/dm.json\")"
   ]
  },
  {
   "cell_type": "code",
   "execution_count": null,
   "metadata": {
    "collapsed": true
   },
   "outputs": [],
   "source": []
  }
 ],
 "metadata": {
  "anaconda-cloud": {},
  "kernelspec": {
   "display_name": "Python 3",
   "language": "python",
   "name": "python3"
  },
  "language_info": {
   "codemirror_mode": {
    "name": "ipython",
    "version": 3
   },
   "file_extension": ".py",
   "mimetype": "text/x-python",
   "name": "python",
   "nbconvert_exporter": "python",
   "pygments_lexer": "ipython3",
   "version": "3.6.3"
  }
 },
 "nbformat": 4,
 "nbformat_minor": 1
}

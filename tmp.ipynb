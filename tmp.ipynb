{
 "cells": [
  {
   "cell_type": "code",
   "execution_count": 17,
   "metadata": {
    "collapsed": true
   },
   "outputs": [
    {
     "name": "stdout",
     "output_type": "stream",
     "text": [
      "name:\"New York\"\n4\n"
     ]
    }
   ],
   "source": [
    "from diffbot_api import CachedQuery\n",
    "import json \n",
    "import codecs \n",
    "\n",
    "\n",
    "cq = CachedQuery()\n",
    "for query in cq._cache:\n",
    "    \n",
    "    db_entity = json.loads(cq._cache[query].content)\n",
    "\n",
    "    print(query)\n",
    "    print(len(db_entity))\n",
    "    \n",
    "    break\n",
    "    \n",
    "with codecs.open(\"/Users/panchenko/Desktop/output.json\", \"w\", \"utf-8\") as out:\n",
    "    out.write(json.dumps(db_entity))"
   ]
  },
  {
   "cell_type": "code",
   "execution_count": 2,
   "metadata": {},
   "outputs": [],
   "source": [
    "# load gensim embeddings\n",
    "from gensim.models import KeyedVectors\n",
    "\n",
    "\n",
    "wv_pkl_fpath = \"/Users/panchenko/work/diffbot/kb2vec/data/crawl-300d-2M.vec.pkl\"\n",
    "\n",
    "dataset_fpaths = [\"datasets/dbpedia.ttl.phrases.tsv\",\n",
    "                  \"datasets/kore50.ttl.phrases.tsv\",\n",
    "                  \"datasets/n3-reuters-128.ttl.phrases.tsv\"]\n",
    "\n",
    "model_fpath = \"data/count-stopwords-3-cc\"\n",
    "\n",
    "\n",
    "wv = KeyedVectors.load(wv_pkl_fpath)\n",
    "wv.init_sims(replace=True)\n",
    "\n",
    "from linkers.dense import DenseLinker\n",
    "\n",
    "\n",
    "l = DenseLinker(model_fpath, wv_pkl_fpath[:-4])\n",
    "phrases = [p.text for p in l._dataset2phrases(dataset_fpaths)]\n",
    "\n",
    "\n",
    "\n",
    "# load vocabulary \n",
    "\n",
    "# see what is similar what is different\n"
   ]
  },
  {
   "cell_type": "code",
   "execution_count": 26,
   "metadata": {},
   "outputs": [
    {
     "ename": "AttributeError",
     "evalue": "'Word2VecKeyedVectors' object has no attribute 'voc'",
     "traceback": [
      "\u001b[0;31m---------------------------------------------------------------------------\u001b[0m",
      "\u001b[0;31mAttributeError\u001b[0m                            Traceback (most recent call last)",
      "\u001b[0;32m<ipython-input-26-8b42242c596e>\u001b[0m in \u001b[0;36m<module>\u001b[0;34m()\u001b[0m\n\u001b[1;32m      6\u001b[0m     \u001b[0;31m#     print(p)\u001b[0m\u001b[0;34m\u001b[0m\u001b[0;34m\u001b[0m\u001b[0m\n\u001b[1;32m      7\u001b[0m \u001b[0;34m\u001b[0m\u001b[0m\n\u001b[0;32m----> 8\u001b[0;31m \u001b[0;32mfor\u001b[0m \u001b[0mi\u001b[0m\u001b[0;34m,\u001b[0m \u001b[0mw\u001b[0m \u001b[0;32min\u001b[0m \u001b[0menumerate\u001b[0m\u001b[0;34m(\u001b[0m\u001b[0mwv\u001b[0m\u001b[0;34m.\u001b[0m\u001b[0mvoc\u001b[0m\u001b[0;34m)\u001b[0m\u001b[0;34m:\u001b[0m\u001b[0;34m\u001b[0m\u001b[0m\n\u001b[0m\u001b[1;32m      9\u001b[0m     \u001b[0mprint\u001b[0m\u001b[0;34m(\u001b[0m\u001b[0mi\u001b[0m\u001b[0;34m,\u001b[0m \u001b[0mw\u001b[0m\u001b[0;34m)\u001b[0m\u001b[0;34m\u001b[0m\u001b[0m\n\u001b[1;32m     10\u001b[0m     \u001b[0;32mif\u001b[0m \u001b[0mi\u001b[0m \u001b[0;34m>\u001b[0m \u001b[0;36m100\u001b[0m\u001b[0;34m:\u001b[0m \u001b[0;32mbreak\u001b[0m\u001b[0;34m\u001b[0m\u001b[0m\n",
      "\u001b[0;31mAttributeError\u001b[0m: 'Word2VecKeyedVectors' object has no attribute 'voc'"
     ],
     "output_type": "error"
    }
   ],
   "source": [
    "for p in phrases:\n",
    "    oov = p not in wv\n",
    "    if \" \" in p and not oov:\n",
    "        print(p)\n",
    "    # if oov:\n",
    "    #     print(p)\n",
    "    \n",
    "for i, w in enumerate(wv.):\n",
    "    print(i, w)\n",
    "    if i > 100: break\n",
    "    "
   ]
  },
  {
   "cell_type": "code",
   "execution_count": 53,
   "metadata": {},
   "outputs": [
    {
     "name": "stdout",
     "output_type": "stream",
     "text": [
      ",\nthe\n.\nand\nto\nof\na\nin\nis\nfor\nthat\nI\n1999995\n"
     ]
    }
   ],
   "source": [
    "for i,w in enumerate(wv.vocab):\n",
    "    print(w)\n",
    "    if i > 10: break\n",
    "    \n",
    "    \n",
    "print(len(wv.vocab))"
   ]
  },
  {
   "cell_type": "code",
   "execution_count": 24,
   "metadata": {},
   "outputs": [],
   "source": [
    ""
   ]
  }
 ],
 "metadata": {
  "kernelspec": {
   "display_name": "Python 2",
   "language": "python",
   "name": "python2"
  },
  "language_info": {
   "codemirror_mode": {
    "name": "ipython",
    "version": 2
   },
   "file_extension": ".py",
   "mimetype": "text/x-python",
   "name": "python",
   "nbconvert_exporter": "python",
   "pygments_lexer": "ipython2",
   "version": "2.7.6"
  }
 },
 "nbformat": 4,
 "nbformat_minor": 0
}

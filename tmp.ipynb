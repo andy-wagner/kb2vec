{
 "cells": [
  {
   "cell_type": "code",
   "execution_count": 1,
   "metadata": {},
   "outputs": [
    {
     "name": "stdout",
     "output_type": "stream",
     "text": [
      "@prefix rdf:   <http://www.w3.org/1999/02/22-rdf-syntax-ns#> .\n",
      "@prefix xsd:   <http://www.w3.org/2001/XMLSchema#> .\n",
      "@prefix itsrdf: <http://www.w3.org/2005/11/its/rdf#> .\n",
      "@prefix nif:   <http://persistence.uni-leipzig.org/nlp2rdf/ontologies/nif-core#> .\n",
      "@prefix rdfs:  <http://www.w3.org/2000/01/rdf-schema#> .\n",
      "\n",
      "\n",
      "\n",
      "\n",
      "\n",
      "\n",
      "\n",
      "\n",
      "\n",
      "\n",
      "++++++++++\n"
     ]
    }
   ],
   "source": [
    "import codecs \n",
    "\n",
    "request_fpath = \"data/15212150991557593-request.ttl\"\n",
    "with codecs.open(request_fpath, \"r\", \"utf-8\") as req:\n",
    "    request = req.read()\n",
    "    \n",
    "output = []\n",
    "for line in request.split(\"\\n\"):\n",
    "    if line.startswith(\"@prefix \") or len(line.strip()) == 0: output.append(line)\n",
    "    #print(len(line.strip()))\n",
    "    \n",
    "print(\"\\n\".join(output))\n",
    "print(\"++++++++++\")"
   ]
  },
  {
   "cell_type": "code",
   "execution_count": null,
   "metadata": {},
   "outputs": [],
   "source": []
  },
  {
   "cell_type": "code",
   "execution_count": 61,
   "metadata": {
    "collapsed": true
   },
   "outputs": [],
   "source": []
  },
  {
   "cell_type": "code",
   "execution_count": 22,
   "metadata": {
    "scrolled": true
   },
   "outputs": [
    {
     "name": "stdout",
     "output_type": "stream",
     "text": [
      "graph has 62 statements.\n",
      "The new Web code, the fifth version of Hypertext Markup Language used to create Web pages, is already in limited use, and it promises to usher in a new era of Internet browsing within the next few years.\n",
      "[Phrase(text='code', beg=12, end=16, subj=rdflib.term.URIRef('http://www.aksw.org/gerbil/NifWebService/request_57#char=12,16'), pred=rdflib.term.URIRef('http://www.w3.org/1999/02/22-rdf-syntax-ns#type'), obj=rdflib.term.URIRef('http://persistence.uni-leipzig.org/nlp2rdf/ontologies/nif-core#Phrase')), Phrase(text='Web', beg=8, end=11, subj=rdflib.term.URIRef('http://www.aksw.org/gerbil/NifWebService/request_57#char=8,11'), pred=rdflib.term.URIRef('http://www.w3.org/1999/02/22-rdf-syntax-ns#type'), obj=rdflib.term.URIRef('http://persistence.uni-leipzig.org/nlp2rdf/ontologies/nif-core#Phrase')), Phrase(text='Hypertext Markup Language', beg=39, end=64, subj=rdflib.term.URIRef('http://www.aksw.org/gerbil/NifWebService/request_57#char=39,64'), pred=rdflib.term.URIRef('http://www.w3.org/1999/02/22-rdf-syntax-ns#type'), obj=rdflib.term.URIRef('http://persistence.uni-leipzig.org/nlp2rdf/ontologies/nif-core#Phrase')), Phrase(text='era', beg=152, end=155, subj=rdflib.term.URIRef('http://www.aksw.org/gerbil/NifWebService/request_57#char=152,155'), pred=rdflib.term.URIRef('http://www.w3.org/1999/02/22-rdf-syntax-ns#type'), obj=rdflib.term.URIRef('http://persistence.uni-leipzig.org/nlp2rdf/ontologies/nif-core#Phrase')), Phrase(text='Internet browsing', beg=159, end=176, subj=rdflib.term.URIRef('http://www.aksw.org/gerbil/NifWebService/request_57#char=159,176'), pred=rdflib.term.URIRef('http://www.w3.org/1999/02/22-rdf-syntax-ns#type'), obj=rdflib.term.URIRef('http://persistence.uni-leipzig.org/nlp2rdf/ontologies/nif-core#Phrase')), Phrase(text='Web pages', beg=80, end=89, subj=rdflib.term.URIRef('http://www.aksw.org/gerbil/NifWebService/request_57#char=80,89'), pred=rdflib.term.URIRef('http://www.w3.org/1999/02/22-rdf-syntax-ns#type'), obj=rdflib.term.URIRef('http://persistence.uni-leipzig.org/nlp2rdf/ontologies/nif-core#Phrase')), Phrase(text='promises', beg=125, end=133, subj=rdflib.term.URIRef('http://www.aksw.org/gerbil/NifWebService/request_57#char=125,133'), pred=rdflib.term.URIRef('http://www.w3.org/1999/02/22-rdf-syntax-ns#type'), obj=rdflib.term.URIRef('http://persistence.uni-leipzig.org/nlp2rdf/ontologies/nif-core#Phrase')), Phrase(text='years', beg=197, end=202, subj=rdflib.term.URIRef('http://www.aksw.org/gerbil/NifWebService/request_57#char=197,202'), pred=rdflib.term.URIRef('http://www.w3.org/1999/02/22-rdf-syntax-ns#type'), obj=rdflib.term.URIRef('http://persistence.uni-leipzig.org/nlp2rdf/ontologies/nif-core#Phrase'))]\n",
      "Output: data/15212150991557593-request.ttl.out\n"
     ]
    }
   ],
   "source": [
    "import rdflib\n",
    "from collections import namedtuple\n",
    "\n",
    "\n",
    "request_fpath = \"data/15212150991557593-request.ttl\"\n",
    "output_fpath = request_fpath + \".out\"\n",
    "\n",
    "\n",
    "A = \"http://www.w3.org/1999/02/22-rdf-syntax-ns#type\"\n",
    "PHRASE = \"#Phrase\"\n",
    "CONTEXT = \"#Context\"\n",
    "STRING = \"#isString\"\n",
    "ANCOR = \"#anchorOf\"\n",
    "BEG = \"#beginIndex\"\n",
    "END = \"#endIndex\"\n",
    "\n",
    "g = rdflib.Graph()\n",
    "result = g.parse(request_fpath, format=\"n3\")\n",
    "\n",
    "print(\"graph has %s statements.\" % len(g))\n",
    "# prints graph has 79 statements.\n",
    "\n",
    "context = \"\"\n",
    "phrases = []\n",
    "\n",
    "for subj, pred, obj in g:\n",
    "    p = str(pred)\n",
    "    s = str(subj)\n",
    "    o = str(obj)\n",
    "    \n",
    "    # catch the context \n",
    "    if o.endswith(CONTEXT):\n",
    "        for pred_s, obj_s in g.predicate_objects(subj):\n",
    "            if pred_s.strip().endswith(STRING):\n",
    "                context = obj_s\n",
    "                print(obj_s)\n",
    "\n",
    "    # catch the phrases to disambiguate \n",
    "    if o.endswith(PHRASE):\n",
    "        phrase = \"\"\n",
    "        end = -1\n",
    "        beg = -1\n",
    "        for pred_s, obj_s in g.predicate_objects(subj):\n",
    "            ps = pred_s.strip()\n",
    "            if ps.endswith(ANCOR): phrase = str(obj_s)\n",
    "            elif ps.endswith(BEG): beg = int(obj_s)\n",
    "            elif ps.endswith(END): end = int(obj_s)\n",
    "                \n",
    "        if phrase == \"\" or beg == -1 or end == -1:\n",
    "            print(\"Warning: bad phrase\", subj, pred, obj)\n",
    "        else:\n",
    "            phrases.append( Phrase(phrase, beg, end, subj, pred, obj) )\n",
    "            \n",
    "print(phrases)\n",
    "# add new triples that correspond to the links of the disambiguation links\n",
    "    \n",
    "# save the results \n",
    "s = g.serialize(format='n3', encoding=\"utf-8\")\n",
    "with open(output_fpath, \"wb\") as f: f.write(s)\n",
    "print(\"Output:\", output_fpath)"
   ]
  },
  {
   "cell_type": "code",
   "execution_count": 19,
   "metadata": {},
   "outputs": [
    {
     "data": {
      "text/plain": [
       "Phrase(text='a', beg=1, end=2, subj='s', pred='p', obj='o')"
      ]
     },
     "execution_count": 19,
     "metadata": {},
     "output_type": "execute_result"
    }
   ],
   "source": [
    "\n",
    "Phrase(\"a\",1,2, \"s\",\"p\",\"o\")"
   ]
  },
  {
   "cell_type": "code",
   "execution_count": null,
   "metadata": {
    "collapsed": true
   },
   "outputs": [],
   "source": []
  },
  {
   "cell_type": "code",
   "execution_count": null,
   "metadata": {
    "collapsed": true
   },
   "outputs": [],
   "source": []
  },
  {
   "cell_type": "code",
   "execution_count": null,
   "metadata": {
    "collapsed": true
   },
   "outputs": [],
   "source": [
    "\n"
   ]
  }
 ],
 "metadata": {
  "anaconda-cloud": {},
  "kernelspec": {
   "display_name": "Python 3",
   "language": "python",
   "name": "python3"
  },
  "language_info": {
   "codemirror_mode": {
    "name": "ipython",
    "version": 3
   },
   "file_extension": ".py",
   "mimetype": "text/x-python",
   "name": "python",
   "nbconvert_exporter": "python",
   "pygments_lexer": "ipython3",
   "version": "3.6.3"
  }
 },
 "nbformat": 4,
 "nbformat_minor": 1
}

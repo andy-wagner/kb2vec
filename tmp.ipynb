{
 "cells": [
  {
   "cell_type": "code",
   "execution_count": 23,
   "metadata": {},
   "outputs": [
    {
     "name": "stdout",
     "output_type": "stream",
     "text": [
      "@prefix rdf:   <http://www.w3.org/1999/02/22-rdf-syntax-ns#> .\n",
      "@prefix xsd:   <http://www.w3.org/2001/XMLSchema#> .\n",
      "@prefix itsrdf: <http://www.w3.org/2005/11/its/rdf#> .\n",
      "@prefix nif:   <http://persistence.uni-leipzig.org/nlp2rdf/ontologies/nif-core#> .\n",
      "@prefix rdfs:  <http://www.w3.org/2000/01/rdf-schema#> .\n",
      "\n",
      "\n",
      "\n",
      "\n",
      "\n",
      "++++++++++\n"
     ]
    }
   ],
   "source": [
    "import codecs \n",
    "\n",
    "request_fpath = \"data/152086728693-request.ttl\"\n",
    "with codecs.open(request_fpath, \"r\", \"utf-8\") as req:\n",
    "    request = req.read()\n",
    "    \n",
    "output = []\n",
    "for line in request.split(\"\\n\"):\n",
    "    if line.startswith(\"@prefix \") or len(line.strip()) == 0: output.append(line)\n",
    "    #print(len(line.strip()))\n",
    "    \n",
    "print(\"\\n\".join(output))\n",
    "print(\"++++++++++\")"
   ]
  },
  {
   "cell_type": "code",
   "execution_count": 27,
   "metadata": {},
   "outputs": [
    {
     "name": "stdout",
     "output_type": "stream",
     "text": [
      "graph has 27 statements.\n"
     ]
    }
   ],
   "source": [
    "result = g.parse(request_fpath, format=\"n3\")\n",
    "\n",
    "print(\"graph has %s statements.\" % len(g))\n",
    "\n"
   ]
  },
  {
   "cell_type": "code",
   "execution_count": 61,
   "metadata": {},
   "outputs": [],
   "source": []
  },
  {
   "cell_type": "code",
   "execution_count": 64,
   "metadata": {
    "scrolled": true
   },
   "outputs": [
    {
     "name": "stdout",
     "output_type": "stream",
     "text": [
      "graph has 27 statements.\n",
      "Harder to notice was that the person at the wheel was not actually driving.\n",
      "Output: data/152086728693-request.ttl.out\n"
     ]
    }
   ],
   "source": [
    "import rdflib\n",
    "\n",
    "output_fpath = request_fpath + \".out\"\n",
    "\n",
    "A = \"http://www.w3.org/1999/02/22-rdf-syntax-ns#type\"\n",
    "PHRASE = \"#Phrase\"\n",
    "CONTEXT = \"#Context\"\n",
    "STRING = \"#isString\"\n",
    "\n",
    "g = rdflib.Graph()\n",
    "result = g.parse(request_fpath, format=\"n3\")\n",
    "\n",
    "print(\"graph has %s statements.\" % len(g))\n",
    "# prints graph has 79 statements.\n",
    "\n",
    "context = \"\"\n",
    "phrases = []\n",
    "\n",
    "for subj, pred, obj in g:\n",
    "    #print(pred)\n",
    "    p = pred.strip()\n",
    "    s = subj.strip()\n",
    "    o = obj.strip()\n",
    "    \n",
    "    # catch the context \n",
    "    if o.endswith(CONTEXT):\n",
    "        for pred_s, obj_s in g.predicate_objects(subj):\n",
    "            if pred_s.strip().endswith(STRING):\n",
    "                context = obj_s\n",
    "                print(obj_s)\n",
    "\n",
    "    # catch the phrases to disambiguate \n",
    "    \n",
    "\n",
    "# add new triples that correspond to the links of the disambiguation links\n",
    "    \n",
    "# save the results \n",
    "s = g.serialize(format='n3', encoding=\"utf-8\")\n",
    "with open(output_fpath, \"wb\") as f: f.write(s)\n",
    "print(\"Output:\", output_fpath)"
   ]
  },
  {
   "cell_type": "code",
   "execution_count": null,
   "metadata": {},
   "outputs": [],
   "source": []
  },
  {
   "cell_type": "code",
   "execution_count": null,
   "metadata": {},
   "outputs": [],
   "source": []
  },
  {
   "cell_type": "code",
   "execution_count": null,
   "metadata": {},
   "outputs": [],
   "source": []
  },
  {
   "cell_type": "code",
   "execution_count": null,
   "metadata": {},
   "outputs": [],
   "source": [
    "\n"
   ]
  }
 ],
 "metadata": {
  "anaconda-cloud": {},
  "kernelspec": {
   "display_name": "Python 3",
   "language": "python",
   "name": "python3"
  },
  "language_info": {
   "codemirror_mode": {
    "name": "ipython",
    "version": 3
   },
   "file_extension": ".py",
   "mimetype": "text/x-python",
   "name": "python",
   "nbconvert_exporter": "python",
   "pygments_lexer": "ipython3",
   "version": "3.6.3"
  }
 },
 "nbformat": 4,
 "nbformat_minor": 1
}

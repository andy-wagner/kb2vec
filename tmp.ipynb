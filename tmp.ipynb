{
 "cells": [
  {
   "cell_type": "code",
   "execution_count": 35,
   "metadata": {
    "collapsed": true
   },
   "outputs": [
    {
     "name": "stdout",
     "output_type": "stream",
     "text": [
      "name:\"New York\"\n4\n"
     ]
    }
   ],
   "source": [
    "from diffbot_api import CachedQuery\n",
    "import json \n",
    "import codecs \n",
    "\n",
    "\n",
    "cq = CachedQuery()\n",
    "for i, query in enumerate(cq._cache):\n",
    "    db_entity = json.loads(cq._cache[query].content)\n",
    "    print(query)\n",
    "    print(len(db_entity))\n",
    "    \n",
    "    with codecs.open(\"/Users/panchenko/Desktop/{}.json\".format(query), \"w\", \"utf-8\") as out:\n",
    "        out.write(json.dumps(db_entity))\n",
    "        \n",
    "    break"
   ]
  },
  {
   "cell_type": "code",
   "execution_count": 34,
   "metadata": {
    "collapsed": false
   },
   "outputs": [],
   "source": [
    "# for hit in db_entity[\"data\"]:\n",
    "#     for k in hit:\n",
    "#         print(k)\n",
    "#     break"
   ]
  },
  {
   "cell_type": "code",
   "execution_count": 40,
   "metadata": {
    "collapsed": true
   },
   "outputs": [
    {
     "name": "stdout",
     "output_type": "stream",
     "text": [
      "37456900.0\n35052100.0\n17384900.0\n12499500.0\n10722700.0\n9986700\n7824100\n7290000\n6874600\n6252400\n5308100\n4715200\n4680200\n4586800\n4501900\n4477000\n4432100\n4327100\n4172200\n4034500\n3650100\n3161500\n3146300\n3028400\n2934900\n2922200\n2802000\n2639900\n2522500\n2315200\n2294500\n2243600\n2173900\n2137200\n2109700\n2087500\n2080400\n2023800\n2007600\n1929400\n1864800\n1860900\n1859700\n1856800\n1786600\n1785600\n1744700\n1690400\n1678900\n1645300\n\n 0 New York City is part of {'name': 'United States of America', 'diffbotUri': 'http://diffbot.com/entity/AcZTRPXDrY9', 'targetDiffbotUri': 'http://diffbot.com/entity/AcZTRPXDrY9', 'type': 'AdministrativeArea'}\n"
     ]
    },
    {
     "ename": "Exception",
     "evalue": "",
     "traceback": [
      "\u001b[0;31m---------------------------------------------------------------------------\u001b[0m",
      "\u001b[0;31mException\u001b[0m                                 Traceback (most recent call last)",
      "\u001b[0;32m<ipython-input-40-374b66ac1bb9>\u001b[0m in \u001b[0;36m<module>\u001b[0;34m()\u001b[0m\n\u001b[1;32m     13\u001b[0m                         \u001b[0mrootId\u001b[0m \u001b[0;34m=\u001b[0m \u001b[0mroot\u001b[0m\u001b[0;34m[\u001b[0m\u001b[0;34m\"diffbotUri\"\u001b[0m\u001b[0;34m]\u001b[0m\u001b[0;34m\u001b[0m\u001b[0m\n\u001b[1;32m     14\u001b[0m                         \u001b[0mprint\u001b[0m\u001b[0;34m(\u001b[0m\u001b[0;34m\"\\n\"\u001b[0m\u001b[0;34m,\u001b[0m \u001b[0mi\u001b[0m\u001b[0;34m,\u001b[0m \u001b[0mhit\u001b[0m\u001b[0;34m[\u001b[0m\u001b[0;34m\"name\"\u001b[0m\u001b[0;34m]\u001b[0m\u001b[0;34m,\u001b[0m \u001b[0;34m\"is part of\"\u001b[0m\u001b[0;34m,\u001b[0m \u001b[0mroot\u001b[0m\u001b[0;34m)\u001b[0m\u001b[0;34m\u001b[0m\u001b[0m\n\u001b[0;32m---> 15\u001b[0;31m                         \u001b[0;32mraise\u001b[0m \u001b[0mException\u001b[0m\u001b[0;34m(\u001b[0m\u001b[0;34m)\u001b[0m\u001b[0;34m\u001b[0m\u001b[0m\n\u001b[0m\u001b[1;32m     16\u001b[0m \u001b[0;34m\u001b[0m\u001b[0m\n\u001b[1;32m     17\u001b[0m \u001b[0;34m\u001b[0m\u001b[0m\n",
      "\u001b[0;31mException\u001b[0m: "
     ],
     "output_type": "error"
    }
   ],
   "source": [
    "cq = CachedQuery()\n",
    "for i, query in enumerate(cq._cache):\n",
    "    db_entity = json.loads(cq._cache[query].content)\n",
    "    if \"data\" not in db_entity: continue\n",
    "    \n",
    "    for hit in db_entity[\"data\"]:\n",
    "        for field_name in hit:\n",
    "            if field_name == \"importance\": \n",
    "                print(hit[\"importance\"])\n",
    "            if field_name == \"isPartOf\":\n",
    "                for i, root in enumerate(hit[\"isPartOf\"]):\n",
    "                    if \"diffbotUri\" in root:\n",
    "                        rootId = root[\"diffbotUri\"]\n",
    "                        print(\"\\n\", i, hit[\"name\"], \"is part of\", root)\n",
    "                        raise Exception()\n",
    "    \n",
    "    "
   ]
  },
  {
   "cell_type": "code",
   "execution_count": 8,
   "metadata": {
    "collapsed": false
   },
   "outputs": [
    {
     "name": "stdout",
     "output_type": "stream",
     "text": [
      "defaultdict(<function extract_relations.<locals>.<lambda> at 0x104c55d90>, {'founders': ['http://diffbot.com/entity/PKuADpLXgMS']}) \n\nhttp://diffbot.com/entity/OCK8zsXiAVy\ndefaultdict(<function extract_relations.<locals>.<lambda> at 0x104e850d0>, {'founders': ['http://diffbot.com/entity/PN+XIqH03xf'], 'ceo': ['http://diffbot.com/entity/PNRyBHTdnbx']}) \n\nhttp://diffbot.com/entity/CHjULiDhdyX\ndefaultdict(<function extract_relations.<locals>.<lambda> at 0x1027718c8>, {'founders': ['http://diffbot.com/entity/PQGFYHeZhLH']}) \n\nhttp://diffbot.com/entity/EZmGU5Kh0KB\nhttp://diffbot.com/entity/Ozw6gU5AsJc\ndefaultdict(<function extract_relations.<locals>.<lambda> at 0x102771d08>, {'founders': ['http://diffbot.com/entity/P9iQ6uiD5to']}) \n\nhttp://diffbot.com/entity/ON6yeCKuGnm\nhttp://diffbot.com/entity/OAbB86ZLYEH\nhttp://diffbot.com/entity/Ox_Hnd_7WEr\nhttp://diffbot.com/entity/OIZzlT1rihy\ndefaultdict(<function extract_relations.<locals>.<lambda> at 0x105629378>, {'founders': ['http://diffbot.com/entity/PqXwyAswiIv']}) \n\nhttp://diffbot.com/entity/E9hzKNQUiTC\nhttp://diffbot.com/entity/EuXdxsjCRjg\nhttp://diffbot.com/entity/OWeqj9aprzB\ndefaultdict(<function extract_relations.<locals>.<lambda> at 0x1056298c8>, {'founders': ['http://diffbot.com/entity/P1ejNzclrxY']}) \n\nhttp://diffbot.com/entity/O8zTfY2Tp_F\nhttp://diffbot.com/entity/OVX1ErF6X53\nhttp://diffbot.com/entity/E3r36BkD5tg\ndefaultdict(<function extract_relations.<locals>.<lambda> at 0x104c552f0>, {'founders': ['http://diffbot.com/entity/PqBPxbbKUwG', 'http://diffbot.com/entity/PfNzLu47VeG']}) \n\nhttp://diffbot.com/entity/ONvHRir0UFC\ndefaultdict(<function extract_relations.<locals>.<lambda> at 0x105614048>, {'founders': ['http://diffbot.com/entity/PsshDYuCF33']}) \n\nhttp://diffbot.com/entity/OVSJYDFkcq+\nhttp://diffbot.com/entity/O8VFLGMbcQL\ndefaultdict(<function extract_relations.<locals>.<lambda> at 0x105614400>, {'founders': ['http://diffbot.com/entity/PwXUa7FvRPX', 'http://diffbot.com/entity/PjV1xV8x05B', 'http://diffbot.com/entity/PkIbZofedHb']}) \n\nhttp://diffbot.com/entity/Ox7OKybcRL7\nhttp://diffbot.com/entity/C6i+B13u3sC\nhttp://diffbot.com/entity/O+YAZiSQc9+\ndefaultdict(<function extract_relations.<locals>.<lambda> at 0x1056148c8>, {'founders': ['http://diffbot.com/entity/P1ejNzclrxY']}) \n\nhttp://diffbot.com/entity/OXk7mZS+Pb1\ndefaultdict(<function extract_relations.<locals>.<lambda> at 0x105614bf8>, {'founders': ['http://diffbot.com/entity/P0x0Tt66MLe', 'http://diffbot.com/entity/P1Cr1u7J9Lp']}) \n\nhttp://diffbot.com/entity/O1MpWqFXriE\nhttp://diffbot.com/entity/Oo1LrGpqO1p\nhttp://diffbot.com/entity/OBu5GZWCmV_\nhttp://diffbot.com/entity/OMg6x1ZdAty\nhttp://diffbot.com/entity/OVadPm2y5Nh\nhttp://diffbot.com/entity/EFM+ReMc_Se\ndefaultdict(<function extract_relations.<locals>.<lambda> at 0x105628400>, {'founders': ['http://diffbot.com/entity/POsi1jTcSJ4']}) \n\nhttp://diffbot.com/entity/EyQuLEzfnQT\nhttp://diffbot.com/entity/OoVdS2h6bvY\nhttp://diffbot.com/entity/Cdng7W7qya1\ndefaultdict(<function extract_relations.<locals>.<lambda> at 0x1056288c8>, {'founders': ['http://diffbot.com/entity/PQUyVUx+GIV']}) \n\nhttp://diffbot.com/entity/OTAOjf66kRw\ndefaultdict(<function extract_relations.<locals>.<lambda> at 0x105628bf8>, {'founders': ['http://diffbot.com/entity/Ppx+o3WH4IR']}) \n\nhttp://diffbot.com/entity/CJuObvMhCx0\nhttp://diffbot.com/entity/OeFeWnK6gP0\nhttp://diffbot.com/entity/OLcHzKRVGE7\nhttp://diffbot.com/entity/OwneFlJCez3\nhttp://diffbot.com/entity/OWKZeuqQ01f\nhttp://diffbot.com/entity/O_3vnLIY3GN\nhttp://diffbot.com/entity/O_M1cxlmxlv\nhttp://diffbot.com/entity/OXLAYKu5JBi\nhttp://diffbot.com/entity/O0v9KVly3KO\ndefaultdict(<function extract_relations.<locals>.<lambda> at 0x1056006a8>, {'founders': ['http://diffbot.com/entity/PaNntqxS5JI', 'http://diffbot.com/entity/Pj220nHFvPf'], 'ceo': ['http://diffbot.com/entity/PIHmMtCQuZx']}) \n\nhttp://diffbot.com/entity/C4yiK5ZPo6Z\nhttp://diffbot.com/entity/CYn98uQbrgS\nhttp://diffbot.com/entity/BkWvaONPQIK\nhttp://diffbot.com/entity/O7++6ItrZHG\nhttp://diffbot.com/entity/Cz11YfBBi4K\nhttp://diffbot.com/entity/O+kGQM+V_uD\nhttp://diffbot.com/entity/CImG9pD6qOK\nhttp://diffbot.com/entity/OvT6TRIswQR\nhttp://diffbot.com/entity/Oi9f+wirvLS\nhttp://diffbot.com/entity/OknTVY5fJ12\n"
     ]
    }
   ],
   "source": [
    "from collections import Counter, defaultdict \n",
    " \n",
    "\n",
    "cq = CachedQuery()\n",
    "printed = 0\n",
    "\n",
    "for i, query in enumerate(cq._cache):\n",
    "    db_entity = json.loads(cq._cache[query].content)\n",
    "\n",
    "    if \"data\" not in db_entity: continue \n",
    "    \n",
    "    for hit in db_entity[\"data\"]:\n",
    "        \n",
    "        if len(r) > 0 and printed < 20:\n",
    "            print(r, \"\\n\")\n",
    "            printed += 1    \n",
    "            \n",
    "        print(uri)\n",
    "        \n",
    "    break\n"
   ]
  },
  {
   "cell_type": "code",
   "execution_count": null,
   "metadata": {},
   "outputs": [],
   "source": [
    ""
   ]
  },
  {
   "cell_type": "code",
   "execution_count": 48,
   "metadata": {},
   "outputs": [
    {
     "data": {
      "text/plain": [
       "[{'diffbotUri': 'http://diffbot.com/entity/AcZTRPXDrY9',\n  'name': 'United States of America',\n  'targetDiffbotUri': 'http://diffbot.com/entity/AcZTRPXDrY9',\n  'type': 'AdministrativeArea'},\n {'diffbotUri': 'http://diffbot.com/entity/AdBDaXfj65G',\n  'name': 'New York',\n  'targetDiffbotUri': 'http://diffbot.com/entity/AdBDaXfj65G',\n  'type': 'AdministrativeArea'},\n {'diffbotUri': 'http://diffbot.com/entity/AZfTRPXDrY9',\n  'name': 'New York City',\n  'targetDiffbotUri': 'http://diffbot.com/entity/AZfTRPXDrY9',\n  'type': 'AdministrativeArea'}]"
      ]
     },
     "execution_count": 48,
     "metadata": {},
     "output_type": "execute_result"
    }
   ],
   "source": [
    "isinstance(hit[field_name], list)\n",
    "hit[field_name]"
   ]
  },
  {
   "cell_type": "code",
   "execution_count": 24,
   "metadata": {},
   "outputs": [],
   "source": [
    ""
   ]
  }
 ],
 "metadata": {
  "kernelspec": {
   "display_name": "Python 2",
   "language": "python",
   "name": "python2"
  },
  "language_info": {
   "codemirror_mode": {
    "name": "ipython",
    "version": 2
   },
   "file_extension": ".py",
   "mimetype": "text/x-python",
   "name": "python",
   "nbconvert_exporter": "python",
   "pygments_lexer": "ipython2",
   "version": "2.7.6"
  }
 },
 "nbformat": 4,
 "nbformat_minor": 0
}

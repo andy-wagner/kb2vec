{
 "cells": [
  {
   "cell_type": "code",
   "execution_count": 22,
   "metadata": {},
   "outputs": [
    {
     "name": "stdout",
     "output_type": "stream",
     "text": [
      "/home/panchenko/kb2vec/datasets/n3-news-128.tsv\n",
      "# of contexts: 129\n",
      "# of targets: 622\n",
      "/home/panchenko/kb2vec/datasets/kore50.tsv\n",
      "# of contexts: 50\n",
      "# of targets: 128\n",
      "/home/panchenko/kb2vec/datasets/dbpedia.tsv\n",
      "# of contexts: 59\n",
      "# of targets: 265\n",
      "/home/panchenko/kb2vec/datasets/n3-reuters-128.tsv\n",
      "# of contexts: 128\n",
      "# of targets: 614\n",
      "/home/panchenko/kb2vec/datasets/ace2004.tsv\n",
      "# of contexts: 57\n",
      "# of targets: 246\n",
      "/home/panchenko/kb2vec/datasets/dzerczynski.tsv\n",
      "# of contexts: 363\n",
      "# of targets: 273\n"
     ]
    }
   ],
   "source": [
    "# statistics of the datasets \n",
    "\n",
    "from pandas import read_csv\n",
    "from glob import glob \n",
    "\n",
    "\n",
    "def dataset_stat(dataset_fpath):\n",
    "    try:\n",
    "        df = read_csv(dataset_fpath, sep=\"\\t\", encoding=\"utf-8\")\n",
    "        df.targets\n",
    "    except AttributeError:\n",
    "        df = read_csv(dataset_fpath, sep=\"\\t\", encoding=\"utf-8\", names=[\"targets\",\"context\"])\n",
    "        \n",
    "    targets = set()\n",
    "    for i, row in df.iterrows():\n",
    "        for t in str(row.targets).split(\",\"):\n",
    "            ts = t.strip()\n",
    "            if len(ts) > 0: targets.add(ts)\n",
    "\n",
    "    print(\"# of contexts:\", len(df))\n",
    "    print(\"# of targets:\", len(targets))\n",
    "\n",
    "\n",
    "datasets_fpath = \"/home/panchenko/kb2vec/datasets/*.tsv\"\n",
    "\n",
    "\n",
    "for dataset_fpath in glob(datasets_fpath):\n",
    "    \n",
    "    print(dataset_fpath)\n",
    "    dataset_stat(dataset_fpath)\n"
   ]
  },
  {
   "cell_type": "code",
   "execution_count": 4,
   "metadata": {},
   "outputs": [
    {
     "name": "stdout",
     "output_type": "stream",
     "text": [
      "Investment Technologies Inc, Investment Technologies, Spear \n",
      "Pemberton Houston Willoughby Bell Gouinlock Inc, Pancontinen\n",
      "Hoechst Celanese, N.C., North Carolina, Hoechst Celanese, Ho\n",
      "Emerson Radio Corp\n",
      "Freeport-McMoRan Oil and Gas Royalty Trust, Freeport-McMoRan\n",
      "Advanced Cardiovascular Systems Inc, Sci-Med, Bristol-Myers \n",
      "Highland Superstores Inc\n",
      "Pan Am Corps Pan Am World Airways, Pan Am, Pan AM\n",
      "Alex. Brown Inc ABSB, Reuter, Hambrecht and Quist Inc, Boett\n",
      "Northern Telecom, Nippon Telegraph and Telephone\n",
      "IMF, Kenneth Kaunda, IMF, IMF, International Monetary Fund, \n",
      "Tehran Radio, Saddam, Iran, Iran, Basra, Iran, British Broad\n",
      "Key Tronic corp\n",
      "James Ottinger, Digital Communications Associates Inc, Berti\n",
      "London, Toronto Dominion Bank, Hambros Bank Ltd\n",
      "Universal Medical Buildings L.P.\n",
      "Hanover, Hanover, Hanover Insurance Co\n",
      "Howard Fromkin, John Wineapple, Terry Hampton, James Adams, \n",
      "Securities and Exchange Commission, Avnet, Avnet Inc, Dillon\n",
      "CAC, SFE, Asiavest Pty Ltd, CAC, Shintoh, Adelaide, CAC, Les\n",
      "MoodyMoody's Investors Service Inc, Reuter, Standard and Poo\n",
      "Brazil\n",
      "Miller, Miller, Budget committee, House Appropriations subco\n",
      "Thomas Bell, Dominion Textile, Dominion Textile, Dominion Te\n",
      "Randol, Pennzoil Co, William Randol, Getty, Pennzoil, Texaco\n",
      "VW, VW, VW, Volkswagen AG, VW, VW\n",
      "Britain, U.S, Holland, Japans Finance Ministry, Switzerland,\n",
      "AutoSpa corp\n",
      "CMS Enhancements Inc, International Business Machines Corp, \n",
      "Federal Reserve, Fed, Fed\n",
      "Madeira, Madeira Inc, Tradevest Inc\n",
      "Datron Corp, Datron, Florida, Datron, Datron, GGHFs, GGFH In\n",
      "Bank of France, Bank\n",
      "Industrial Valley, Fidelcor Inc, IVB Financial Corp, Industr\n",
      "Morgan, Morgan, Morgan, Brazil, Morgan, Brazil, J.P. Morgan \n",
      "CCL, Envases Metalurgicos de Alava, Spain, Monobloc U.S.A., \n",
      "Digital Equipment Corp, Teradyne Inc\n",
      "Braodway Casinos Inc, American Midland, American Midland, Am\n",
      "Entourage International Inc\n",
      "Eastman Kodak Co, Merrill Lynch Capital Markets, Luxembourg \n",
      "Rolls Royce Plc, Rolls, Rolls, Francis Tombs, Samuel Montagu\n",
      "Photographic Sciences Corp\n",
      "Chiles, Reuter, Senate, Lawton Chiles, U.S. Senate Budget Co\n",
      "Federal Paperboard Co Inc, Federal Paperboards, Federal, Jap\n",
      "OBrien-Kreitzberg, Georgia, Scherer, Georgia Power, Scherer,\n",
      "Thermwood Corp, Thermwood\n",
      "Bruce Smart, Ashai Shimbun, Japan, Reagan, Michael Smith, Ja\n",
      "Manila, Atlas Consolidated Mining and Development Corp\n",
      "Wedgestone Advisory Corp, Wedgestone Realty Investors Trust\n",
      "Cor van der Klugt, NV Philips Gloeilampenfabrieken, NASDAQ, \n",
      "Toronto Dominion Bank, Bache Securities Inc, Toronto Stock E\n",
      "Brazil, Parana, Brito, Brasilia, Brito, Brito, Leonardo Brit\n",
      "Le Peep Restaurants Inc, Ohio, Ohio, Columbus, ShellyShelly'\n",
      "Dillon, Read and Co Inc, Avnet Inc, Avnet, Securities and Ex\n",
      "AVX Corp, Shearson Lehman Brothers Inc, AVX, Securities and \n",
      "Union, UnionUnion's, Reuter, Public Service Colorado, Public\n",
      "U.S. National Transportation Safety Board, Tokyo, Japan Air \n",
      "West Germanys, West Germany, Economics Ministry, The ministr\n",
      "Helen of Troy, Securities and Exchange Commission, Drexel Bu\n",
      "Paxar Corp, West Germany, Paxar, Lohn, Thermo-Print GmbH\n",
      "Western Digital Corp, Reuter\n",
      "Kidder Peabody, E.F. Hutton Co Inc, Amplicon Incs, Kidder, P\n",
      "CME, CME, Securities and Exchange Commission, Chicago Mercan\n",
      "New Jersey Hospital Association\n",
      "Salomon Brothers International, Federal Realty Investment Tr\n",
      "Philadelphias Chase Cancer Center, William West, John Durant\n",
      "London, Toronto Dominion Bank, Hambros Bank Ltd\n",
      "Edouard Saouma, sub-Saharan Africa, Far East, U.N.s Food and\n",
      "Asarco Inc, Asarco, First Boston Corp\n",
      "Continental Bank of Canada, Lloyds Bank PLCs Lloyds Bank Can\n",
      "Securities and Exchange Commission, CNA Inc, Drexel Burnham \n",
      "Fed, U.S. Government, Fed, Federal Reserve, Fed, Reuter, Fed\n",
      "Brotherhood of Railway and Airline Clerks, Republic, Republi\n",
      "Buenos Aires, Formosa, Chaco, Chaco, La Pampa, Corrientes, S\n",
      "Tunisia, COFACE, French export credit agency, Tunisia, Franc\n",
      "Celltronics Inc\n",
      "Suiker Unie, Reuters, Netherlands, Netherlands\n",
      "Reuters Holdings Plc, London, Tokyo, London Stock Exchanges,\n",
      "Shared Network Technologies Inc, Shared Network, MCI Communi\n",
      "Mosaic Systems Inc, Data I/O Corp\n",
      "Holt Rinehart and Winston, Harcourt, Les Editions HRW Ltd, W\n",
      "Moodys, Moodys, Avco Financial Services Inc, Avco Corp, Avco\n",
      "Best Buy Co Inc\n",
      "Japan\n",
      "Source Telecomputing Corp, Readers Digest, The Readers Diges\n",
      "John Shad, Supreme Court, Wall Street Journal, Netherlands, \n",
      "Raytheon\n",
      "Group of Five, Gerhard Stoltenberg, Robin Leigh Pemberton, U\n",
      "General Motors Acceptance Corp, Moodys Investors, Merrill Ly\n",
      "Shopsmith Inc, Joseph DiGaicomo Jr., John R. Folkerth\n",
      "Fed, Federal Reserve\n",
      "Ivory Coast, CPA, Cocoa Producers Alliance, CPA, CPA, Brazil\n",
      "Yankee Cos Inc, Eskey Inc\n",
      "Larry Taylor, Noranda, Noranda, Murdochville, Coffin, Raymon\n",
      "Cain, Dosher, Dosher, Houston, Dean Witter Reynolds, GAFs, H\n",
      "Entourage International Inc, North Country Media Group, Lond\n",
      "Social Affairs Ministry\n",
      "Advanced Micro, Motorola Inc, ISDN, John East, ISDN, ISDN, N\n",
      "Spain, Belgium, France, West-Germany, Denmark, EC Commission\n",
      "Merck, Merck and Co Inc \n",
      "ATT, American Telephone and Telegraph Co\n",
      "London, GECGEC's, Picker International Inc, U.S., General El\n",
      "Philadelphia, Home Intensive Care Inc\n",
      "Preston corp, Reuter\n",
      "Preston corp said it expects to report a loss of about 300,0\n",
      "Honduras, Honduras\n",
      "Drexel Burnham Lambert Inc, Blocker Energy corp, Alex. Brown\n",
      "Japan, Federal Paper Board Co Inc, Osaka, Ozaki Trading Co L\n",
      "Western Digital, Western Digtial Corp\n",
      "Securities and Exchange Commission, Great Lakes Chemical Cor\n",
      "NV Philips Gloielampenfabrieken, Cor van der Klugt\n",
      "Trump, Donald Trump, Interstate, Interstate Properties, Alex\n",
      "Atari, Paine Webber International, Atari Corp\n",
      "Stockholm, Urban, Paris Club, Foreign Policy Institute, Jerz\n",
      "Ford Motor Co, Ford, Ford\n",
      "Eridania SPA, Renato Picco, Montedison, Montedison, Milan, F\n",
      "London Metal Exchange, Association of White Metals, Internat\n",
      "Bashaw, Bashaw Leduc Oil and Gas Ltd, Erskine Resources Ltd,\n",
      "Lawton Chiles, Chiles, Senate Budget Committee\n",
      "Reagan, Carter, United States, Treasury, Treasury, Carter, R\n",
      "U.S. District Court, Reynolds and Reynolds, Advanced, Reynol\n",
      "Houston, Fla., National Guardian Corp, Capital Investigation\n",
      "Burlington, Edelman, Burlington, Burlington, J.P. Stevens an\n",
      "Sun Co's, Sun Refining and Marketing Co\n",
      "Ore, Don Bybee and Associates, Salem, Southmark Corp\n",
      "Ameribanc Inc, Stifel, Nicolaus and Co Inc, Burns, Pauli and\n",
      "Fleet Financial Group, Murray, J. Terence Murray, Providence\n",
      "Securities and Exchange Commission, AVX Corp, Shearson Lehma\n",
      "Amsterdam bourse, DSMN.AS, DSM, Onno Ruding, DSM, Van Liemt,\n"
     ]
    }
   ],
   "source": [
    "for x in df.targets:\n",
    "    print(x[:60])"
   ]
  },
  {
   "cell_type": "code",
   "execution_count": null,
   "metadata": {
    "collapsed": true
   },
   "outputs": [],
   "source": []
  },
  {
   "cell_type": "code",
   "execution_count": null,
   "metadata": {
    "collapsed": true
   },
   "outputs": [],
   "source": []
  },
  {
   "cell_type": "code",
   "execution_count": null,
   "metadata": {
    "collapsed": true,
    "scrolled": true
   },
   "outputs": [],
   "source": []
  },
  {
   "cell_type": "code",
   "execution_count": null,
   "metadata": {
    "collapsed": true
   },
   "outputs": [],
   "source": []
  },
  {
   "cell_type": "code",
   "execution_count": null,
   "metadata": {
    "collapsed": true
   },
   "outputs": [],
   "source": []
  },
  {
   "cell_type": "code",
   "execution_count": null,
   "metadata": {
    "collapsed": true
   },
   "outputs": [],
   "source": []
  },
  {
   "cell_type": "code",
   "execution_count": null,
   "metadata": {
    "collapsed": true
   },
   "outputs": [],
   "source": [
    "\n"
   ]
  }
 ],
 "metadata": {
  "anaconda-cloud": {},
  "kernelspec": {
   "display_name": "Python 3",
   "language": "python",
   "name": "python3"
  },
  "language_info": {
   "codemirror_mode": {
    "name": "ipython",
    "version": 3
   },
   "file_extension": ".py",
   "mimetype": "text/x-python",
   "name": "python",
   "nbconvert_exporter": "python",
   "pygments_lexer": "ipython3",
   "version": "3.6.3"
  }
 },
 "nbformat": 4,
 "nbformat_minor": 1
}

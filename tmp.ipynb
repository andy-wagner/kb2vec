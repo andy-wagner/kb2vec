{
 "cells": [
  {
   "cell_type": "code",
   "execution_count": 22,
   "metadata": {
    "scrolled": true
   },
   "outputs": [
    {
     "name": "stdout",
     "output_type": "stream",
     "text": [
      "/home/panchenko/kb2vec/datasets/n3-news-128.tsv\n",
      "# of contexts: 129\n",
      "# of targets: 622\n",
      "/home/panchenko/kb2vec/datasets/kore50.tsv\n",
      "# of contexts: 50\n",
      "# of targets: 128\n",
      "/home/panchenko/kb2vec/datasets/dbpedia.tsv\n",
      "# of contexts: 59\n",
      "# of targets: 265\n",
      "/home/panchenko/kb2vec/datasets/n3-reuters-128.tsv\n",
      "# of contexts: 128\n",
      "# of targets: 614\n",
      "/home/panchenko/kb2vec/datasets/ace2004.tsv\n",
      "# of contexts: 57\n",
      "# of targets: 246\n",
      "/home/panchenko/kb2vec/datasets/dzerczynski.tsv\n",
      "# of contexts: 363\n",
      "# of targets: 273\n"
     ]
    }
   ],
   "source": [
    "# statistics of the datasets \n",
    "\n",
    "from pandas import read_csv\n",
    "from glob import glob \n",
    "\n",
    "\n",
    "def dataset_stat(dataset_fpath):\n",
    "    try:\n",
    "        df = read_csv(dataset_fpath, sep=\"\\t\", encoding=\"utf-8\")\n",
    "        df.targets\n",
    "    except AttributeError:\n",
    "        df = read_csv(dataset_fpath, sep=\"\\t\", encoding=\"utf-8\", names=[\"targets\",\"context\"])\n",
    "        \n",
    "    targets = set()\n",
    "    for i, row in df.iterrows():\n",
    "        for t in str(row.targets).split(\",\"):\n",
    "            ts = t.strip()\n",
    "            if len(ts) > 0: targets.add(ts)\n",
    "\n",
    "    print(\"# of contexts:\", len(df))\n",
    "    print(\"# of targets:\", len(targets))\n",
    "\n",
    "\n",
    "datasets_fpath = \"/home/panchenko/kb2vec/datasets/*.tsv\"\n",
    "\n",
    "\n",
    "for dataset_fpath in glob(datasets_fpath):\n",
    "    \n",
    "    print(dataset_fpath)\n",
    "    dataset_stat(dataset_fpath)\n"
   ]
  },
  {
   "cell_type": "code",
   "execution_count": 43,
   "metadata": {},
   "outputs": [
    {
     "name": "stdout",
     "output_type": "stream",
     "text": [
      "datasets/dbpedia-url.txt\n",
      "datasets/n3-reuters-128-urls.txt\n",
      "datasets/kore50-urls.txt\n"
     ]
    }
   ],
   "source": [
    "import re\n",
    "from glob import glob \n",
    "\n",
    "url = re.compile(r\"<([^>]+)>\")\n",
    "\n",
    "url_fpaths = \"datasets/*txt\"\n",
    "\n",
    "for url_fpath in glob(url_fpaths):\n",
    "    print(url_fpath)\n",
    "    with open(url_fpath, \"r\") as in_f, open(url_fpath + \".out\", \"w\") as out_f:\n",
    "        for line in in_f:\n",
    "            match = url.search(line)\n",
    "            if match:\n",
    "                out_f.write(\"{}\\n\".format(match.groups(0)[0]))\n",
    "    \n",
    "            "
   ]
  },
  {
   "cell_type": "code",
   "execution_count": 39,
   "metadata": {},
   "outputs": [
    {
     "data": {
      "text/plain": [
       "('http://dbpedia.org/resource/John_P._Kennedy',)"
      ]
     },
     "execution_count": 39,
     "metadata": {},
     "output_type": "execute_result"
    }
   ],
   "source": []
  },
  {
   "cell_type": "code",
   "execution_count": null,
   "metadata": {
    "collapsed": true
   },
   "outputs": [],
   "source": []
  },
  {
   "cell_type": "code",
   "execution_count": null,
   "metadata": {
    "collapsed": true,
    "scrolled": true
   },
   "outputs": [],
   "source": []
  },
  {
   "cell_type": "code",
   "execution_count": null,
   "metadata": {
    "collapsed": true
   },
   "outputs": [],
   "source": []
  },
  {
   "cell_type": "code",
   "execution_count": null,
   "metadata": {
    "collapsed": true
   },
   "outputs": [],
   "source": []
  },
  {
   "cell_type": "code",
   "execution_count": null,
   "metadata": {
    "collapsed": true
   },
   "outputs": [],
   "source": []
  },
  {
   "cell_type": "code",
   "execution_count": null,
   "metadata": {
    "collapsed": true
   },
   "outputs": [],
   "source": [
    "\n"
   ]
  }
 ],
 "metadata": {
  "anaconda-cloud": {},
  "kernelspec": {
   "display_name": "Python 3",
   "language": "python",
   "name": "python3"
  },
  "language_info": {
   "codemirror_mode": {
    "name": "ipython",
    "version": 3
   },
   "file_extension": ".py",
   "mimetype": "text/x-python",
   "name": "python",
   "nbconvert_exporter": "python",
   "pygments_lexer": "ipython3",
   "version": "3.6.3"
  }
 },
 "nbformat": 4,
 "nbformat_minor": 1
}

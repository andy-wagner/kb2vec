{
 "cells": [
  {
   "cell_type": "code",
   "execution_count": 1,
   "metadata": {},
   "outputs": [
    {
     "name": "stdout",
     "output_type": "stream",
     "text": [
      "@prefix rdf:   <http://www.w3.org/1999/02/22-rdf-syntax-ns#> .\n",
      "@prefix xsd:   <http://www.w3.org/2001/XMLSchema#> .\n",
      "@prefix itsrdf: <http://www.w3.org/2005/11/its/rdf#> .\n",
      "@prefix nif:   <http://persistence.uni-leipzig.org/nlp2rdf/ontologies/nif-core#> .\n",
      "@prefix rdfs:  <http://www.w3.org/2000/01/rdf-schema#> .\n",
      "\n",
      "\n",
      "\n",
      "\n",
      "\n",
      "\n",
      "\n",
      "\n",
      "\n",
      "\n",
      "++++++++++\n"
     ]
    }
   ],
   "source": [
    "import codecs \n",
    "\n",
    "request_fpath = \"data/15212150991557593-request.ttl\"\n",
    "with codecs.open(request_fpath, \"r\", \"utf-8\") as req:\n",
    "    request = req.read()\n",
    "    \n",
    "output = []\n",
    "for line in request.split(\"\\n\"):\n",
    "    if line.startswith(\"@prefix \") or len(line.strip()) == 0: output.append(line)\n",
    "    #print(len(line.strip()))\n",
    "    \n",
    "print(\"\\n\".join(output))\n",
    "print(\"++++++++++\")"
   ]
  },
  {
   "cell_type": "code",
   "execution_count": 39,
   "metadata": {},
   "outputs": [
    {
     "name": "stdout",
     "output_type": "stream",
     "text": [
      "True\n"
     ]
    }
   ],
   "source": [
    "\n",
    "x = URIRef('http://www.aksw.org/gerbil/NifWebService/request_57#char=125,133')\n",
    "print(x == subj)"
   ]
  },
  {
   "cell_type": "code",
   "execution_count": 38,
   "metadata": {},
   "outputs": [
    {
     "data": {
      "text/plain": [
       "rdflib.term.URIRef('http://www.aksw.org/gerbil/NifWebService/request_57#char=125,133')"
      ]
     },
     "execution_count": 38,
     "metadata": {},
     "output_type": "execute_result"
    }
   ],
   "source": [
    "subj"
   ]
  },
  {
   "cell_type": "code",
   "execution_count": 58,
   "metadata": {},
   "outputs": [],
   "source": [
    "g.parse?"
   ]
  },
  {
   "cell_type": "code",
   "execution_count": 61,
   "metadata": {
    "scrolled": true
   },
   "outputs": [
    {
     "name": "stdout",
     "output_type": "stream",
     "text": [
      "The new Web code, the fifth version of Hypertext Markup Language used to create Web pages, is already in limited use, and it promises to usher in a new era of Internet browsing within the next few years.\n",
      "# triples input: 62\n",
      "# triples output: 78\n",
      "Output: data/15212150991557593-request.ttl.out\n"
     ]
    }
   ],
   "source": [
    "\n",
    "\n",
    "request_fpath = \"data/15212150991557593-request.ttl\"\n",
    "output_fpath = request_fpath + \".out\"\n",
    "with codecs.open(request_fpath, \"r\", \"utf-8\") as in_f: in_ttl = in_f.read()\n",
    "out_ttl = add_nonsense_response(in_ttl)\n",
    "with codecs.open(output_fpath, \"w\", \"utf-8\") as out_f: out_f.write(out_ttl)  \n",
    "print(\"Output:\", output_fpath)"
   ]
  },
  {
   "cell_type": "code",
   "execution_count": null,
   "metadata": {},
   "outputs": [],
   "source": [
    "\n",
    "Phrase(\"a\",1,2, \"s\",\"p\",\"o\")"
   ]
  },
  {
   "cell_type": "code",
   "execution_count": null,
   "metadata": {
    "collapsed": true
   },
   "outputs": [],
   "source": []
  },
  {
   "cell_type": "code",
   "execution_count": null,
   "metadata": {
    "collapsed": true
   },
   "outputs": [],
   "source": []
  },
  {
   "cell_type": "code",
   "execution_count": null,
   "metadata": {
    "collapsed": true
   },
   "outputs": [],
   "source": [
    "\n"
   ]
  }
 ],
 "metadata": {
  "anaconda-cloud": {},
  "kernelspec": {
   "display_name": "Python 3",
   "language": "python",
   "name": "python3"
  },
  "language_info": {
   "codemirror_mode": {
    "name": "ipython",
    "version": 3
   },
   "file_extension": ".py",
   "mimetype": "text/x-python",
   "name": "python",
   "nbconvert_exporter": "python",
   "pygments_lexer": "ipython3",
   "version": "3.6.3"
  }
 },
 "nbformat": 4,
 "nbformat_minor": 1
}
